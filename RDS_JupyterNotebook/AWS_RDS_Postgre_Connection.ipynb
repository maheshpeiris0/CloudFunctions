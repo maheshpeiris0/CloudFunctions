{
 "cells": [
  {
   "cell_type": "code",
   "execution_count": 1,
   "id": "8484fafb",
   "metadata": {},
   "outputs": [],
   "source": [
    "import pandas as pd\n",
    "import psycopg2\n",
    "from psycopg2 import sql"
   ]
  },
  {
   "cell_type": "markdown",
   "id": "c44197cd",
   "metadata": {},
   "source": [
    "# AWS RDS Connection"
   ]
  },
  {
   "cell_type": "code",
   "execution_count": 8,
   "id": "af522f51",
   "metadata": {},
   "outputs": [],
   "source": [
    "PGEND_POINT = '' # End_point\n",
    "PGDATABASE_NAME = 'youtube_test_db' # Database Name example: youtube_test_db\n",
    "PGUSER_NAME = 'postgres' # UserName\n",
    "PGPASSWORD = 'asd123qwe' # Password"
   ]
  },
  {
   "cell_type": "code",
   "execution_count": 9,
   "id": "a8a1df41",
   "metadata": {},
   "outputs": [],
   "source": [
    "def connect():\n",
    "    \n",
    "    # Set up a connection to the postgres server.\n",
    "    conn_string = \"host=\"+ PGEND_POINT +\" port=\"+ \"5432\" +\" dbname=\"+ PGDATABASE_NAME +\" user=\" + PGUSER_NAME \\\n",
    "                  +\" password=\"+ PGPASSWORD\n",
    "    \n",
    "    conn = psycopg2.connect(conn_string)\n",
    "    print(\"Connected!\")\n",
    "\n",
    "    # Create a cursor object\n",
    "    cursor = conn.cursor()\n",
    "    \n",
    "    return conn, cursor"
   ]
  },
  {
   "cell_type": "code",
   "execution_count": 10,
   "id": "db10e366",
   "metadata": {},
   "outputs": [
    {
     "name": "stdout",
     "output_type": "stream",
     "text": [
      "Connected!\n"
     ]
    }
   ],
   "source": [
    "conn, cursor = connect()"
   ]
  },
  {
   "cell_type": "markdown",
   "id": "7d8a60a0",
   "metadata": {},
   "source": [
    " ## SQL Queries\n",
    " "
   ]
  },
  {
   "cell_type": "code",
   "execution_count": 11,
   "id": "bf0d7cb4",
   "metadata": {},
   "outputs": [],
   "source": [
    "# Creating simple table\n",
    "query_food = sql.SQL(\"\"\"CREATE TABLE Menu (\n",
    "  food_id INT NOT NULL,\n",
    "  food_name VARCHAR(30) NOT NULL,\n",
    "  PRIMARY KEY (food_id),\n",
    "  UNIQUE (food_name)\n",
    ");\"\"\")\n",
    "\n"
   ]
  },
  {
   "cell_type": "code",
   "execution_count": 12,
   "id": "db6011ff",
   "metadata": {},
   "outputs": [],
   "source": [
    "cur = conn.cursor()\n",
    "cur.execute(query_food)\n",
    "cur.close() # close communication with the PostgreSQL database server\n",
    "conn.commit() # commit the changes"
   ]
  },
  {
   "cell_type": "code",
   "execution_count": 13,
   "id": "bedc47a8",
   "metadata": {},
   "outputs": [],
   "source": [
    "# insert data into table\n",
    "query_food_insert = sql.SQL(\"\"\"\n",
    "INSERT INTO Menu \n",
    "    (food_id, food_name) VALUES (1,'Tacos'), (2,'Tomato Soup'),(3,'Grilled Cheese');\n",
    "\"\"\")"
   ]
  },
  {
   "cell_type": "code",
   "execution_count": 14,
   "id": "7cb29988",
   "metadata": {},
   "outputs": [],
   "source": [
    "cur = conn.cursor()\n",
    "cur.execute(query_food_insert)\n",
    "cur.close() \n",
    "conn.commit()"
   ]
  },
  {
   "cell_type": "code",
   "execution_count": 15,
   "id": "e4966458",
   "metadata": {},
   "outputs": [],
   "source": [
    "# Query the table\n",
    "\n",
    "query_menu = sql.SQL(\"\"\"\n",
    "SELECT * FROM menu;\n",
    "\"\"\")"
   ]
  },
  {
   "cell_type": "code",
   "execution_count": 16,
   "id": "a9d0a40f",
   "metadata": {},
   "outputs": [],
   "source": [
    "cur = conn.cursor()\n",
    "cur.execute(query_menu)\n"
   ]
  },
  {
   "cell_type": "code",
   "execution_count": 17,
   "id": "be00ea92",
   "metadata": {},
   "outputs": [
    {
     "name": "stdout",
     "output_type": "stream",
     "text": [
      "(1, 'Tacos')\n"
     ]
    }
   ],
   "source": [
    "print(cur.fetchone())"
   ]
  },
  {
   "cell_type": "code",
   "execution_count": 18,
   "id": "3a327d5a",
   "metadata": {},
   "outputs": [
    {
     "name": "stdout",
     "output_type": "stream",
     "text": [
      "[(1, 'Tacos'), (2, 'Tomato Soup'), (3, 'Grilled Cheese')]\n"
     ]
    }
   ],
   "source": [
    "cur = conn.cursor()\n",
    "cur.execute(query_menu)\n",
    "print(cur.fetchall())"
   ]
  },
  {
   "cell_type": "code",
   "execution_count": 19,
   "id": "08a1a8bd",
   "metadata": {},
   "outputs": [
    {
     "name": "stdout",
     "output_type": "stream",
     "text": [
      "[(1, 'Tacos'), (2, 'Tomato Soup')]\n"
     ]
    }
   ],
   "source": [
    "cur = conn.cursor()\n",
    "cur.execute(query_menu)\n",
    "rows_to_fetch = 2\n",
    "print(cur.fetchmany(rows_to_fetch))"
   ]
  },
  {
   "cell_type": "code",
   "execution_count": 20,
   "id": "7aa619d6",
   "metadata": {},
   "outputs": [],
   "source": [
    "cur.close() \n",
    "conn.commit()"
   ]
  },
  {
   "cell_type": "markdown",
   "id": "7c8332ca",
   "metadata": {},
   "source": [
    "### DataFrame"
   ]
  },
  {
   "cell_type": "code",
   "execution_count": 21,
   "id": "7a5ce876",
   "metadata": {},
   "outputs": [],
   "source": [
    "cur = conn.cursor()\n",
    "cur.execute(query_menu)"
   ]
  },
  {
   "cell_type": "code",
   "execution_count": 22,
   "id": "8f068e53",
   "metadata": {},
   "outputs": [],
   "source": [
    "df_menu = pd.DataFrame(cur.fetchall(), columns=['food_id', 'food_name'])"
   ]
  },
  {
   "cell_type": "code",
   "execution_count": 23,
   "id": "493cd4b7",
   "metadata": {},
   "outputs": [
    {
     "data": {
      "text/html": [
       "<div>\n",
       "<style scoped>\n",
       "    .dataframe tbody tr th:only-of-type {\n",
       "        vertical-align: middle;\n",
       "    }\n",
       "\n",
       "    .dataframe tbody tr th {\n",
       "        vertical-align: top;\n",
       "    }\n",
       "\n",
       "    .dataframe thead th {\n",
       "        text-align: right;\n",
       "    }\n",
       "</style>\n",
       "<table border=\"1\" class=\"dataframe\">\n",
       "  <thead>\n",
       "    <tr style=\"text-align: right;\">\n",
       "      <th></th>\n",
       "      <th>food_id</th>\n",
       "      <th>food_name</th>\n",
       "    </tr>\n",
       "  </thead>\n",
       "  <tbody>\n",
       "    <tr>\n",
       "      <th>0</th>\n",
       "      <td>1</td>\n",
       "      <td>Tacos</td>\n",
       "    </tr>\n",
       "    <tr>\n",
       "      <th>1</th>\n",
       "      <td>2</td>\n",
       "      <td>Tomato Soup</td>\n",
       "    </tr>\n",
       "    <tr>\n",
       "      <th>2</th>\n",
       "      <td>3</td>\n",
       "      <td>Grilled Cheese</td>\n",
       "    </tr>\n",
       "  </tbody>\n",
       "</table>\n",
       "</div>"
      ],
      "text/plain": [
       "   food_id       food_name\n",
       "0        1           Tacos\n",
       "1        2     Tomato Soup\n",
       "2        3  Grilled Cheese"
      ]
     },
     "execution_count": 23,
     "metadata": {},
     "output_type": "execute_result"
    }
   ],
   "source": [
    "df_menu"
   ]
  },
  {
   "cell_type": "code",
   "execution_count": 24,
   "id": "6fa018cb",
   "metadata": {},
   "outputs": [],
   "source": [
    "cur.close() \n",
    "conn.commit()"
   ]
  },
  {
   "cell_type": "markdown",
   "id": "ec73ccf8",
   "metadata": {},
   "source": [
    "#### Insert dataframe into table"
   ]
  },
  {
   "cell_type": "code",
   "execution_count": 25,
   "id": "182f8b64",
   "metadata": {},
   "outputs": [],
   "source": [
    "data = {'Name': ['Tom', 'Jerry', 'harry'],\n",
    "        'Age': [50, 25, 10]}"
   ]
  },
  {
   "cell_type": "code",
   "execution_count": 26,
   "id": "8ca53741",
   "metadata": {},
   "outputs": [],
   "source": [
    "df_people = pd.DataFrame(data)"
   ]
  },
  {
   "cell_type": "code",
   "execution_count": 27,
   "id": "2f4f5630",
   "metadata": {},
   "outputs": [
    {
     "data": {
      "text/html": [
       "<div>\n",
       "<style scoped>\n",
       "    .dataframe tbody tr th:only-of-type {\n",
       "        vertical-align: middle;\n",
       "    }\n",
       "\n",
       "    .dataframe tbody tr th {\n",
       "        vertical-align: top;\n",
       "    }\n",
       "\n",
       "    .dataframe thead th {\n",
       "        text-align: right;\n",
       "    }\n",
       "</style>\n",
       "<table border=\"1\" class=\"dataframe\">\n",
       "  <thead>\n",
       "    <tr style=\"text-align: right;\">\n",
       "      <th></th>\n",
       "      <th>Name</th>\n",
       "      <th>Age</th>\n",
       "    </tr>\n",
       "  </thead>\n",
       "  <tbody>\n",
       "    <tr>\n",
       "      <th>0</th>\n",
       "      <td>Tom</td>\n",
       "      <td>50</td>\n",
       "    </tr>\n",
       "    <tr>\n",
       "      <th>1</th>\n",
       "      <td>Jerry</td>\n",
       "      <td>25</td>\n",
       "    </tr>\n",
       "    <tr>\n",
       "      <th>2</th>\n",
       "      <td>harry</td>\n",
       "      <td>10</td>\n",
       "    </tr>\n",
       "  </tbody>\n",
       "</table>\n",
       "</div>"
      ],
      "text/plain": [
       "    Name  Age\n",
       "0    Tom   50\n",
       "1  Jerry   25\n",
       "2  harry   10"
      ]
     },
     "execution_count": 27,
     "metadata": {},
     "output_type": "execute_result"
    }
   ],
   "source": [
    "df_people"
   ]
  },
  {
   "cell_type": "code",
   "execution_count": 28,
   "id": "6913750e",
   "metadata": {},
   "outputs": [],
   "source": [
    "query_people = sql.SQL(\"\"\"CREATE TABLE people (\n",
    "  Name VARCHAR(30) NOT NULL,\n",
    "  Age INT NOT NULL,\n",
    "  PRIMARY KEY (Name),\n",
    "  UNIQUE (Name)\n",
    ");\"\"\")"
   ]
  },
  {
   "cell_type": "code",
   "execution_count": 29,
   "id": "21c084be",
   "metadata": {},
   "outputs": [],
   "source": [
    "cur = conn.cursor()\n",
    "cur.execute(query_people)\n",
    "cur.close()\n",
    "conn.commit()"
   ]
  },
  {
   "cell_type": "code",
   "execution_count": 30,
   "id": "38f30414",
   "metadata": {},
   "outputs": [],
   "source": [
    "# single insert\n",
    "def single_inserts(conn, df, table):\n",
    "    for i in df.index:\n",
    "        cur = conn.cursor()\n",
    "        cols  = ','.join(list(df.columns))\n",
    "        vals  = [df.at[i,col] for col in list(df.columns)]\n",
    "        query = \"INSERT INTO %s(%s) VALUES('%s',%s)\" % (table, cols, vals[0], vals[1])\n",
    "        cur.execute(query)\n",
    "        cur.close()\n",
    "        conn.commit()\n",
    "    print(\"single insert completed\")\n"
   ]
  },
  {
   "cell_type": "code",
   "execution_count": 31,
   "id": "98aad450",
   "metadata": {},
   "outputs": [
    {
     "name": "stdout",
     "output_type": "stream",
     "text": [
      "single insert completed\n"
     ]
    }
   ],
   "source": [
    "single_inserts(conn,df_people,'people')"
   ]
  },
  {
   "cell_type": "code",
   "execution_count": 32,
   "id": "5e6d763f",
   "metadata": {},
   "outputs": [],
   "source": [
    "query_people_table = sql.SQL(\"\"\"\n",
    "SELECT * FROM people;\n",
    "\"\"\")"
   ]
  },
  {
   "cell_type": "code",
   "execution_count": 33,
   "id": "110c8786",
   "metadata": {},
   "outputs": [
    {
     "name": "stdout",
     "output_type": "stream",
     "text": [
      "[('Tom', 50), ('Jerry', 25), ('harry', 10)]\n"
     ]
    }
   ],
   "source": [
    "cur = conn.cursor()\n",
    "cur.execute(query_people_table)\n",
    "print(cur.fetchall())\n",
    "cur.close()\n",
    "conn.commit()"
   ]
  },
  {
   "cell_type": "code",
   "execution_count": 60,
   "id": "908849f4",
   "metadata": {},
   "outputs": [],
   "source": [
    "# batch insert"
   ]
  },
  {
   "cell_type": "code",
   "execution_count": 34,
   "id": "6f90c3c3",
   "metadata": {},
   "outputs": [],
   "source": [
    "apple_df = pd.read_csv('AAPL.csv') # import dataset"
   ]
  },
  {
   "cell_type": "code",
   "execution_count": 35,
   "id": "739fd225",
   "metadata": {},
   "outputs": [
    {
     "data": {
      "text/plain": [
       "(1259, 5)"
      ]
     },
     "execution_count": 35,
     "metadata": {},
     "output_type": "execute_result"
    }
   ],
   "source": [
    "apple_df.shape"
   ]
  },
  {
   "cell_type": "code",
   "execution_count": 36,
   "id": "57147372",
   "metadata": {},
   "outputs": [
    {
     "data": {
      "text/html": [
       "<div>\n",
       "<style scoped>\n",
       "    .dataframe tbody tr th:only-of-type {\n",
       "        vertical-align: middle;\n",
       "    }\n",
       "\n",
       "    .dataframe tbody tr th {\n",
       "        vertical-align: top;\n",
       "    }\n",
       "\n",
       "    .dataframe thead th {\n",
       "        text-align: right;\n",
       "    }\n",
       "</style>\n",
       "<table border=\"1\" class=\"dataframe\">\n",
       "  <thead>\n",
       "    <tr style=\"text-align: right;\">\n",
       "      <th></th>\n",
       "      <th>Date</th>\n",
       "      <th>Open</th>\n",
       "      <th>High</th>\n",
       "      <th>Low</th>\n",
       "      <th>Close</th>\n",
       "    </tr>\n",
       "  </thead>\n",
       "  <tbody>\n",
       "    <tr>\n",
       "      <th>482</th>\n",
       "      <td>2019-07-16</td>\n",
       "      <td>51.147499</td>\n",
       "      <td>51.527500</td>\n",
       "      <td>50.875000</td>\n",
       "      <td>51.125000</td>\n",
       "    </tr>\n",
       "    <tr>\n",
       "      <th>171</th>\n",
       "      <td>2018-04-19</td>\n",
       "      <td>43.439999</td>\n",
       "      <td>43.847500</td>\n",
       "      <td>43.165001</td>\n",
       "      <td>43.200001</td>\n",
       "    </tr>\n",
       "    <tr>\n",
       "      <th>576</th>\n",
       "      <td>2019-11-26</td>\n",
       "      <td>66.735001</td>\n",
       "      <td>66.790001</td>\n",
       "      <td>65.625000</td>\n",
       "      <td>66.072502</td>\n",
       "    </tr>\n",
       "    <tr>\n",
       "      <th>1246</th>\n",
       "      <td>2022-07-27</td>\n",
       "      <td>152.580002</td>\n",
       "      <td>157.330002</td>\n",
       "      <td>152.160004</td>\n",
       "      <td>156.789993</td>\n",
       "    </tr>\n",
       "    <tr>\n",
       "      <th>281</th>\n",
       "      <td>2018-09-25</td>\n",
       "      <td>54.937500</td>\n",
       "      <td>55.705002</td>\n",
       "      <td>54.924999</td>\n",
       "      <td>55.547501</td>\n",
       "    </tr>\n",
       "  </tbody>\n",
       "</table>\n",
       "</div>"
      ],
      "text/plain": [
       "            Date        Open        High         Low       Close\n",
       "482   2019-07-16   51.147499   51.527500   50.875000   51.125000\n",
       "171   2018-04-19   43.439999   43.847500   43.165001   43.200001\n",
       "576   2019-11-26   66.735001   66.790001   65.625000   66.072502\n",
       "1246  2022-07-27  152.580002  157.330002  152.160004  156.789993\n",
       "281   2018-09-25   54.937500   55.705002   54.924999   55.547501"
      ]
     },
     "execution_count": 36,
     "metadata": {},
     "output_type": "execute_result"
    }
   ],
   "source": [
    "apple_df.sample(5)"
   ]
  },
  {
   "cell_type": "code",
   "execution_count": 37,
   "id": "a30cbfa5",
   "metadata": {},
   "outputs": [],
   "source": [
    "query_apple = sql.SQL(\"\"\"CREATE TABLE apple_table (\n",
    "  Date DATE NOT NULL,\n",
    "  Open FLOAT,\n",
    "  High FLOAT,\n",
    "  Low FLOAT,\n",
    "  Close FLOAT,\n",
    "  PRIMARY KEY (Date),\n",
    "  UNIQUE (Date)\n",
    ");\"\"\")"
   ]
  },
  {
   "cell_type": "code",
   "execution_count": 38,
   "id": "d71f5a3b",
   "metadata": {},
   "outputs": [],
   "source": [
    "cur = conn.cursor()\n",
    "cur.execute(query_apple)\n",
    "cur.close()\n",
    "conn.commit()"
   ]
  },
  {
   "cell_type": "code",
   "execution_count": 39,
   "id": "1ef306a7",
   "metadata": {},
   "outputs": [],
   "source": [
    "def update_many(conn, datafrm, table):\n",
    "    \n",
    "    # Creating a list of tupples from the dataframe values\n",
    "    tpls = [tuple(x) for x in datafrm.to_numpy()]\n",
    "    \n",
    "    # dataframe columns with Comma-separated\n",
    "    cols = ','.join(list(datafrm.columns))\n",
    "    \n",
    "    # SQL query to execute\n",
    "    sql = \"INSERT INTO %s(%s) VALUES(%%s,%%s,%%s,%%s,%%s)\" % (table, cols)\n",
    "    cursor = conn.cursor()\n",
    "    cursor.executemany(sql, tpls)\n",
    "    print(\"Data upload complete successfully...\")\n",
    "    cursor.close()\n",
    "    conn.commit()"
   ]
  },
  {
   "cell_type": "code",
   "execution_count": 40,
   "id": "d54e69da",
   "metadata": {},
   "outputs": [
    {
     "name": "stdout",
     "output_type": "stream",
     "text": [
      "Data upload complete successfully...\n"
     ]
    }
   ],
   "source": [
    "update_many(conn,apple_df,'apple_table')"
   ]
  },
  {
   "cell_type": "code",
   "execution_count": 41,
   "id": "fcbd333a",
   "metadata": {},
   "outputs": [],
   "source": [
    "query_apple = sql.SQL(\"\"\"\n",
    "SELECT * FROM apple_table;\n",
    "\"\"\")"
   ]
  },
  {
   "cell_type": "code",
   "execution_count": 42,
   "id": "6dc8b028",
   "metadata": {},
   "outputs": [
    {
     "name": "stdout",
     "output_type": "stream",
     "text": [
      "[(datetime.date(2017, 8, 14), 39.830002, 40.052502, 39.6875, 39.962502), (datetime.date(2017, 8, 15), 40.165001, 40.549999, 40.035, 40.400002), (datetime.date(2017, 8, 16), 40.485001, 40.627499, 40.037498, 40.237499), (datetime.date(2017, 8, 17), 40.130001, 40.177502, 39.459999, 39.465), (datetime.date(2017, 8, 18), 39.465, 39.875, 39.18, 39.375), (datetime.date(2017, 8, 21), 39.375, 39.4725, 38.7775, 39.302502), (datetime.date(2017, 8, 22), 39.557499, 40.0, 39.505001, 39.945), (datetime.date(2017, 8, 23), 39.767502, 40.1175, 39.720001, 39.994999), (datetime.date(2017, 8, 24), 40.107498, 40.185001, 39.637501, 39.817501), (datetime.date(2017, 8, 25), 39.912498, 40.139999, 39.817501, 39.965), (datetime.date(2017, 8, 28), 40.035, 40.5, 39.982498, 40.3675), (datetime.date(2017, 8, 29), 40.025002, 40.779999, 40.0, 40.727501), (datetime.date(2017, 8, 30), 40.950001, 40.9725, 40.6525, 40.837502), (datetime.date(2017, 8, 31), 40.91, 41.130001, 40.869999, 41.0), (datetime.date(2017, 9, 1), 41.200001, 41.235001, 40.907501, 41.012501), (datetime.date(2017, 9, 5), 40.9375, 41.0625, 40.139999, 40.52), (datetime.date(2017, 9, 6), 40.677502, 40.747501, 40.130001, 40.477501), (datetime.date(2017, 9, 7), 40.522499, 40.560001, 40.09, 40.314999), (datetime.date(2017, 9, 8), 40.215, 40.287498, 39.6325, 39.657501), (datetime.date(2017, 9, 11), 40.125, 40.512501, 39.9725, 40.375), (datetime.date(2017, 9, 12), 40.6525, 40.990002, 39.692501, 40.215), (datetime.date(2017, 9, 13), 39.967499, 39.990002, 39.477501, 39.912498), (datetime.date(2017, 9, 14), 39.747501, 39.849998, 39.522499, 39.57), (datetime.date(2017, 9, 15), 39.6175, 40.2425, 39.5, 39.970001), (datetime.date(2017, 9, 18), 40.0275, 40.125, 39.5, 39.6675), (datetime.date(2017, 9, 19), 39.877499, 39.942501, 39.610001, 39.682499), (datetime.date(2017, 9, 20), 39.474998, 39.564999, 38.4575, 39.017502), (datetime.date(2017, 9, 21), 38.950001, 38.950001, 38.1875, 38.3475), (datetime.date(2017, 9, 22), 37.884998, 38.067501, 37.639999, 37.9725), (datetime.date(2017, 9, 25), 37.497501, 37.9575, 37.290001, 37.637501), (datetime.date(2017, 9, 26), 37.945, 38.48, 37.922501, 38.285), (datetime.date(2017, 9, 27), 38.450001, 38.68, 38.384998, 38.557499), (datetime.date(2017, 9, 28), 38.4725, 38.57, 38.174999, 38.32), (datetime.date(2017, 9, 29), 38.302502, 38.532501, 38.0, 38.529999), (datetime.date(2017, 10, 2), 38.564999, 38.612499, 38.18, 38.452499), (datetime.date(2017, 10, 3), 38.502499, 38.772499, 38.477501, 38.619999), (datetime.date(2017, 10, 4), 38.407501, 38.465, 38.115002, 38.369999), (datetime.date(2017, 10, 5), 38.544998, 38.860001, 38.512501, 38.8475), (datetime.date(2017, 10, 6), 38.7425, 38.872501, 38.639999, 38.825001), (datetime.date(2017, 10, 9), 38.952499, 39.182499, 38.872501, 38.959999), (datetime.date(2017, 10, 10), 39.014999, 39.5, 38.775002, 38.974998), (datetime.date(2017, 10, 11), 38.9925, 39.244999, 38.9375, 39.137501), (datetime.date(2017, 10, 12), 39.087502, 39.342499, 38.932499, 39.0), (datetime.date(2017, 10, 13), 39.182499, 39.32, 39.102501, 39.247501), (datetime.date(2017, 10, 16), 39.474998, 40.0, 39.412498, 39.970001), (datetime.date(2017, 10, 17), 39.945, 40.217499, 39.807499, 40.1175), (datetime.date(2017, 10, 18), 40.105, 40.177502, 39.900002, 39.939999), (datetime.date(2017, 10, 19), 39.1875, 39.27, 38.755001, 38.994999), (datetime.date(2017, 10, 20), 39.1525, 39.4375, 38.990002, 39.0625), (datetime.date(2017, 10, 23), 39.2225, 39.422501, 38.875, 39.0425), (datetime.date(2017, 10, 24), 39.072498, 39.355, 39.049999, 39.275002), (datetime.date(2017, 10, 25), 39.227501, 39.387501, 38.817501, 39.102501), (datetime.date(2017, 10, 26), 39.307499, 39.4575, 39.195, 39.352501), (datetime.date(2017, 10, 27), 39.822498, 40.900002, 39.674999, 40.762501), (datetime.date(2017, 10, 30), 40.9725, 42.017502, 40.93, 41.68), (datetime.date(2017, 10, 31), 41.974998, 42.412498, 41.735001, 42.259998), (datetime.date(2017, 11, 1), 42.467499, 42.485001, 41.4025, 41.7225), (datetime.date(2017, 11, 2), 41.650002, 42.125, 41.32, 42.0275), (datetime.date(2017, 11, 3), 43.5, 43.564999, 42.779999, 43.125), (datetime.date(2017, 11, 6), 43.092499, 43.747501, 42.93, 43.5625), (datetime.date(2017, 11, 7), 43.477501, 43.8125, 43.400002, 43.702499), (datetime.date(2017, 11, 8), 43.665001, 44.060001, 43.5825, 44.060001), (datetime.date(2017, 11, 9), 43.7775, 44.025002, 43.285, 43.970001), (datetime.date(2017, 11, 10), 43.7775, 43.845001, 43.567501, 43.6675), (datetime.date(2017, 11, 13), 43.375, 43.625, 43.349998, 43.4925), (datetime.date(2017, 11, 14), 43.259998, 43.369999, 42.794998, 42.834999), (datetime.date(2017, 11, 15), 42.4925, 42.580002, 42.095001, 42.27), (datetime.date(2017, 11, 16), 42.794998, 42.967499, 42.575001, 42.775002), (datetime.date(2017, 11, 17), 42.759998, 42.8475, 42.41, 42.537498), (datetime.date(2017, 11, 20), 42.572498, 42.639999, 42.389999, 42.494999), (datetime.date(2017, 11, 21), 42.695, 43.424999, 42.695, 43.285), (datetime.date(2017, 11, 22), 43.34, 43.75, 43.262501, 43.740002), (datetime.date(2017, 11, 24), 43.775002, 43.875, 43.662498, 43.7425), (datetime.date(2017, 11, 27), 43.762501, 43.77, 43.334999, 43.522499), (datetime.date(2017, 11, 28), 43.575001, 43.717499, 42.965, 43.267502), (datetime.date(2017, 11, 29), 43.157501, 43.23, 41.790001, 42.369999), (datetime.date(2017, 11, 30), 42.607498, 43.035, 42.110001, 42.962502), (datetime.date(2017, 12, 1), 42.487499, 42.9175, 42.125, 42.762501), (datetime.date(2017, 12, 4), 43.119999, 43.154999, 42.407501, 42.450001), (datetime.date(2017, 12, 5), 42.264999, 42.880001, 42.099998, 42.41), (datetime.date(2017, 12, 6), 41.875, 42.549999, 41.615002, 42.252499), (datetime.date(2017, 12, 7), 42.2575, 42.610001, 42.227501, 42.330002), (datetime.date(2017, 12, 8), 42.622501, 42.75, 42.205002, 42.342499), (datetime.date(2017, 12, 11), 42.299999, 43.2225, 42.197498, 43.1675), (datetime.date(2017, 12, 12), 43.037498, 43.0975, 42.865002, 42.924999), (datetime.date(2017, 12, 13), 43.125, 43.384998, 43.0, 43.067501), (datetime.date(2017, 12, 14), 43.099998, 43.282501, 42.912498, 43.055), (datetime.date(2017, 12, 15), 43.407501, 43.5425, 43.115002, 43.4925), (datetime.date(2017, 12, 18), 43.720001, 44.299999, 43.715, 44.105), (datetime.date(2017, 12, 19), 43.7575, 43.8475, 43.522499, 43.634998), (datetime.date(2017, 12, 20), 43.717499, 43.855, 43.3125, 43.587502), (datetime.date(2017, 12, 21), 43.5425, 44.005001, 43.525002, 43.752499), (datetime.date(2017, 12, 22), 43.669998, 43.855, 43.625, 43.752499), (datetime.date(2017, 12, 26), 42.700001, 42.8675, 42.419998, 42.642502), (datetime.date(2017, 12, 27), 42.525002, 42.695, 42.427502, 42.650002), (datetime.date(2017, 12, 28), 42.75, 42.962502, 42.619999, 42.77), (datetime.date(2017, 12, 29), 42.630001, 42.647499, 42.305, 42.307499), (datetime.date(2018, 1, 2), 42.540001, 43.075001, 42.314999, 43.064999), (datetime.date(2018, 1, 3), 43.1325, 43.637501, 42.990002, 43.057499), (datetime.date(2018, 1, 4), 43.134998, 43.3675, 43.02, 43.2575), (datetime.date(2018, 1, 5), 43.360001, 43.842499, 43.262501, 43.75), (datetime.date(2018, 1, 8), 43.587502, 43.9025, 43.482498, 43.587502), (datetime.date(2018, 1, 9), 43.637501, 43.764999, 43.352501, 43.5825), (datetime.date(2018, 1, 10), 43.290001, 43.575001, 43.25, 43.572498), (datetime.date(2018, 1, 11), 43.647499, 43.872501, 43.622501, 43.82), (datetime.date(2018, 1, 12), 44.044998, 44.34, 43.912498, 44.272499), (datetime.date(2018, 1, 16), 44.474998, 44.8475, 44.035, 44.047501), (datetime.date(2018, 1, 17), 44.037498, 44.8125, 43.767502, 44.775002), (datetime.date(2018, 1, 18), 44.842499, 45.025002, 44.5625, 44.814999), (datetime.date(2018, 1, 19), 44.6525, 44.895, 44.352501, 44.615002), (datetime.date(2018, 1, 22), 44.325001, 44.445, 44.150002, 44.25), (datetime.date(2018, 1, 23), 44.325001, 44.860001, 44.205002, 44.259998), (datetime.date(2018, 1, 24), 44.3125, 44.325001, 43.299999, 43.555), (datetime.date(2018, 1, 25), 43.627499, 43.737499, 42.6325, 42.7775), (datetime.date(2018, 1, 26), 43.0, 43.0, 42.514999, 42.877499), (datetime.date(2018, 1, 29), 42.540001, 42.540001, 41.767502, 41.990002), (datetime.date(2018, 1, 30), 41.3825, 41.842499, 41.174999, 41.7425), (datetime.date(2018, 1, 31), 41.717499, 42.110001, 41.625, 41.857498), (datetime.date(2018, 2, 1), 41.7925, 42.154999, 41.689999, 41.945), (datetime.date(2018, 2, 2), 41.5, 41.700001, 40.025002, 40.125), (datetime.date(2018, 2, 5), 39.775002, 40.970001, 39.0, 39.122501), (datetime.date(2018, 2, 6), 38.7075, 40.93, 38.5, 40.7575), (datetime.date(2018, 2, 7), 40.772499, 40.849998, 39.767502, 39.884998), (datetime.date(2018, 2, 8), 40.072498, 40.25, 38.7575, 38.787498), (datetime.date(2018, 2, 9), 39.267502, 39.4725, 37.560001, 39.102501), (datetime.date(2018, 2, 12), 39.625, 40.9725, 39.377499, 40.677502), (datetime.date(2018, 2, 13), 40.487499, 41.1875, 40.412498, 41.084999), (datetime.date(2018, 2, 14), 40.759998, 41.884998, 40.720001, 41.842499), (datetime.date(2018, 2, 15), 42.447498, 43.272499, 42.25, 43.247501), (datetime.date(2018, 2, 16), 43.09, 43.705002, 42.942501, 43.107498), (datetime.date(2018, 2, 20), 43.012501, 43.564999, 42.855, 42.962502), (datetime.date(2018, 2, 21), 43.2075, 43.529999, 42.752499, 42.767502), (datetime.date(2018, 2, 22), 42.950001, 43.487499, 42.927502, 43.125), (datetime.date(2018, 2, 23), 43.4175, 43.912498, 43.384998, 43.875), (datetime.date(2018, 2, 26), 44.087502, 44.8475, 44.052502, 44.7425), (datetime.date(2018, 2, 27), 44.775002, 45.119999, 44.540001, 44.5975), (datetime.date(2018, 2, 28), 44.814999, 45.154999, 44.512501, 44.529999), (datetime.date(2018, 3, 1), 44.634998, 44.945, 43.165001, 43.75), (datetime.date(2018, 3, 2), 43.200001, 44.075001, 43.112499, 44.052502), (datetime.date(2018, 3, 5), 43.802502, 44.435001, 43.630001, 44.205002), (datetime.date(2018, 3, 6), 44.477501, 44.5625, 44.032501, 44.1675), (datetime.date(2018, 3, 7), 43.735001, 43.962502, 43.567501, 43.7575), (datetime.date(2018, 3, 8), 43.869999, 44.279999, 43.767502, 44.235001), (datetime.date(2018, 3, 9), 44.490002, 45.0, 44.3475, 44.994999), (datetime.date(2018, 3, 12), 45.072498, 45.5975, 45.052502, 45.43), (datetime.date(2018, 3, 13), 45.647499, 45.875, 44.810001, 44.9925), (datetime.date(2018, 3, 14), 45.080002, 45.130001, 44.452499, 44.610001), (datetime.date(2018, 3, 15), 44.625, 45.060001, 44.517502, 44.662498), (datetime.date(2018, 3, 16), 44.662498, 44.779999, 44.404999, 44.505001), (datetime.date(2018, 3, 19), 44.330002, 44.3675, 43.415001, 43.825001), (datetime.date(2018, 3, 20), 43.810001, 44.200001, 43.735001, 43.810001), (datetime.date(2018, 3, 21), 43.759998, 43.772499, 42.814999, 42.817501), (datetime.date(2018, 3, 22), 42.5, 43.169998, 42.150002, 42.212502), (datetime.date(2018, 3, 23), 42.0975, 42.48, 41.235001, 41.235001), (datetime.date(2018, 3, 26), 42.017502, 43.275002, 41.610001, 43.192501), (datetime.date(2018, 3, 27), 43.419998, 43.787498, 41.73, 42.084999), (datetime.date(2018, 3, 28), 41.8125, 42.505001, 41.297501, 41.619999), (datetime.date(2018, 3, 29), 41.952499, 42.9375, 41.724998, 41.945), (datetime.date(2018, 4, 2), 41.66, 42.235001, 41.1175, 41.669998), (datetime.date(2018, 4, 3), 41.91, 42.1875, 41.220001, 42.0975), (datetime.date(2018, 4, 4), 41.220001, 43.002499, 41.192501, 42.9025), (datetime.date(2018, 4, 5), 43.145, 43.557499, 43.02, 43.200001), (datetime.date(2018, 4, 6), 42.7425, 43.119999, 42.049999, 42.095001), (datetime.date(2018, 4, 9), 42.470001, 43.272499, 42.462502, 42.512501), (datetime.date(2018, 4, 10), 43.25, 43.5, 42.8825, 43.3125), (datetime.date(2018, 4, 11), 43.057499, 43.48, 42.924999, 43.110001), (datetime.date(2018, 4, 12), 43.352501, 43.75, 43.259998, 43.535), (datetime.date(2018, 4, 13), 43.695, 43.959999, 43.462502, 43.682499), (datetime.date(2018, 4, 16), 43.7575, 44.047501, 43.7075, 43.955002), (datetime.date(2018, 4, 17), 44.122501, 44.735001, 44.102501, 44.560001), (datetime.date(2018, 4, 18), 44.452499, 44.705002, 44.220001, 44.459999), (datetime.date(2018, 4, 19), 43.439999, 43.8475, 43.165001, 43.200001), (datetime.date(2018, 4, 20), 42.650002, 42.805, 41.357498, 41.43), (datetime.date(2018, 4, 23), 41.7075, 41.73, 41.022499, 41.310001), (datetime.date(2018, 4, 24), 41.4175, 41.5825, 40.305, 40.735001), (datetime.date(2018, 4, 25), 40.654999, 41.355, 40.602501, 40.912498), (datetime.date(2018, 4, 26), 41.029999, 41.432499, 40.842499, 41.055), (datetime.date(2018, 4, 27), 41.0, 41.0825, 40.157501, 40.580002), (datetime.date(2018, 4, 30), 40.532501, 41.814999, 40.459999, 41.314999), (datetime.date(2018, 5, 1), 41.602501, 42.299999, 41.317501, 42.275002), (datetime.date(2018, 5, 2), 43.807499, 44.4375, 43.450001, 44.142502), (datetime.date(2018, 5, 3), 43.970001, 44.375, 43.610001, 44.2225), (datetime.date(2018, 5, 4), 44.5625, 46.0625, 44.5425, 45.9575), (datetime.date(2018, 5, 7), 46.294998, 46.9175, 46.1875, 46.290001), (datetime.date(2018, 5, 8), 46.247501, 46.555, 45.9175, 46.512501), (datetime.date(2018, 5, 9), 46.637501, 46.849998, 46.305, 46.84), (datetime.date(2018, 5, 10), 46.935001, 47.592499, 46.912498, 47.509998), (datetime.date(2018, 5, 11), 47.372501, 47.514999, 46.862499, 47.147499), (datetime.date(2018, 5, 14), 47.252499, 47.3825, 46.965, 47.037498), (datetime.date(2018, 5, 15), 46.695, 46.767502, 46.275002, 46.610001), (datetime.date(2018, 5, 16), 46.517502, 47.115002, 46.5, 47.044998), (datetime.date(2018, 5, 17), 47.0, 47.227501, 46.59, 46.747501), (datetime.date(2018, 5, 18), 46.797501, 46.952499, 46.532501, 46.577499), (datetime.date(2018, 5, 21), 47.0, 47.317501, 46.727501, 46.907501), (datetime.date(2018, 5, 22), 47.095001, 47.220001, 46.695, 46.790001), (datetime.date(2018, 5, 23), 46.587502, 47.125, 46.439999, 47.09), (datetime.date(2018, 5, 24), 47.192501, 47.209999, 46.552502, 47.037498), (datetime.date(2018, 5, 25), 47.057499, 47.412498, 46.912498, 47.145), (datetime.date(2018, 5, 29), 46.900002, 47.1875, 46.717499, 46.974998), (datetime.date(2018, 5, 30), 46.93, 47.0, 46.695, 46.875), (datetime.date(2018, 5, 31), 46.805, 47.057499, 46.535, 46.717499), (datetime.date(2018, 6, 1), 46.997501, 47.564999, 46.9375, 47.560001), (datetime.date(2018, 6, 4), 47.91, 48.355, 47.837502, 47.9575), (datetime.date(2018, 6, 5), 48.267502, 48.485001, 48.09, 48.327499), (datetime.date(2018, 6, 6), 48.407501, 48.52, 47.98, 48.494999), (datetime.date(2018, 6, 7), 48.535, 48.549999, 48.084999, 48.365002), (datetime.date(2018, 6, 8), 47.7925, 48.0, 47.442501, 47.924999), (datetime.date(2018, 6, 11), 47.837502, 47.9925, 47.552502, 47.807499), (datetime.date(2018, 6, 12), 47.8475, 48.1525, 47.787498, 48.07), (datetime.date(2018, 6, 13), 48.105, 48.220001, 47.610001, 47.674999), (datetime.date(2018, 6, 14), 47.887501, 47.892502, 47.555, 47.700001), (datetime.date(2018, 6, 15), 47.5075, 47.540001, 47.064999, 47.209999), (datetime.date(2018, 6, 18), 46.970001, 47.305, 46.799999, 47.185001), (datetime.date(2018, 6, 19), 46.285, 46.5825, 45.862499, 46.422501), (datetime.date(2018, 6, 20), 46.587502, 46.799999, 46.432499, 46.625), (datetime.date(2018, 6, 21), 46.8125, 47.087502, 46.235001, 46.365002), (datetime.date(2018, 6, 22), 46.529999, 46.537498, 46.174999, 46.23), (datetime.date(2018, 6, 25), 45.849998, 46.23, 45.182499, 45.5425), (datetime.date(2018, 6, 26), 45.747501, 46.6325, 45.634998, 46.107498), (datetime.date(2018, 6, 27), 46.307499, 46.82, 46.0075, 46.040001), (datetime.date(2018, 6, 28), 46.025002, 46.552502, 45.950001, 46.375), (datetime.date(2018, 6, 29), 46.572498, 46.797501, 45.727501, 46.2775), (datetime.date(2018, 7, 2), 45.955002, 46.825001, 45.855, 46.794998), (datetime.date(2018, 7, 3), 46.947498, 46.987499, 45.884998, 45.98), (datetime.date(2018, 7, 5), 46.314999, 46.602501, 46.07, 46.349998), (datetime.date(2018, 7, 6), 46.355, 47.107498, 46.299999, 46.9925), (datetime.date(2018, 7, 9), 47.375, 47.669998, 47.325001, 47.645), (datetime.date(2018, 7, 10), 47.677502, 47.82, 47.544998, 47.587502), (datetime.date(2018, 7, 11), 47.125, 47.445, 46.9025, 46.970001), (datetime.date(2018, 7, 12), 47.3825, 47.852501, 47.327499, 47.7575), (datetime.date(2018, 7, 13), 47.77, 47.959999, 47.724998, 47.8325), (datetime.date(2018, 7, 16), 47.880001, 48.162498, 47.605, 47.727501), (datetime.date(2018, 7, 17), 47.4375, 47.967499, 47.299999, 47.862499), (datetime.date(2018, 7, 18), 47.945, 47.950001, 47.482498, 47.599998), (datetime.date(2018, 7, 19), 47.422501, 48.137501, 47.422501, 47.970001), (datetime.date(2018, 7, 20), 47.945, 48.107498, 47.5425, 47.860001), (datetime.date(2018, 7, 23), 47.669998, 47.990002, 47.389999, 47.9025), (datetime.date(2018, 7, 24), 48.112499, 48.415001, 48.012501, 48.25), (datetime.date(2018, 7, 25), 48.264999, 48.712502, 48.107498, 48.705002), (datetime.date(2018, 7, 26), 48.6525, 48.990002, 48.4025, 48.552502), (datetime.date(2018, 7, 27), 48.747501, 48.797501, 47.525002, 47.744999), (datetime.date(2018, 7, 30), 47.974998, 48.049999, 47.267502, 47.477501), (datetime.date(2018, 7, 31), 47.575001, 48.035, 47.334999, 47.572498), (datetime.date(2018, 8, 1), 49.782501, 50.439999, 49.327499, 50.375), (datetime.date(2018, 8, 2), 50.145, 52.095001, 50.087502, 51.8475), (datetime.date(2018, 8, 3), 51.7575, 52.185001, 51.369999, 51.997501), (datetime.date(2018, 8, 6), 52.0, 52.3125, 51.767502, 52.267502), (datetime.date(2018, 8, 7), 52.330002, 52.375, 51.689999, 51.7775), (datetime.date(2018, 8, 8), 51.512501, 51.952499, 51.130001, 51.8125), (datetime.date(2018, 8, 9), 52.3825, 52.445, 51.799999, 52.220001), (datetime.date(2018, 8, 10), 51.84, 52.275002, 51.6675, 51.8825), (datetime.date(2018, 8, 13), 52.327499, 52.737499, 51.924999, 52.217499), (datetime.date(2018, 8, 14), 52.540001, 52.639999, 52.064999, 52.4375), (datetime.date(2018, 8, 15), 52.305, 52.685001, 52.0825, 52.560001), (datetime.date(2018, 8, 16), 52.9375, 53.452499, 52.8675, 53.330002), (datetime.date(2018, 8, 17), 53.360001, 54.487499, 53.290001, 54.395), (datetime.date(2018, 8, 20), 54.525002, 54.794998, 53.7775, 53.865002), (datetime.date(2018, 8, 21), 54.200001, 54.297501, 53.5075, 53.759998), (datetime.date(2018, 8, 22), 53.525002, 54.09, 53.459999, 53.762501), (datetime.date(2018, 8, 23), 53.662498, 54.262501, 53.650002, 53.872501), (datetime.date(2018, 8, 24), 54.150002, 54.224998, 53.7775, 54.040001), (datetime.date(2018, 8, 27), 54.287498, 54.685001, 54.0825, 54.485001), (datetime.date(2018, 8, 28), 54.752499, 55.134998, 54.73, 54.924999), (datetime.date(2018, 8, 29), 55.037498, 55.872501, 54.852501, 55.744999), (datetime.date(2018, 8, 30), 55.8125, 57.064999, 55.599998, 56.2575), (datetime.date(2018, 8, 31), 56.627499, 57.217499, 56.5, 56.907501), (datetime.date(2018, 9, 4), 57.102501, 57.294998, 56.657501, 57.09), (datetime.date(2018, 9, 5), 57.247501, 57.4175, 56.275002, 56.717499), (datetime.date(2018, 9, 6), 56.557499, 56.837502, 55.325001, 55.775002), (datetime.date(2018, 9, 7), 55.462502, 56.342499, 55.177502, 55.325001), (datetime.date(2018, 9, 10), 55.237499, 55.462502, 54.1175, 54.5825), (datetime.date(2018, 9, 11), 54.502499, 56.075001, 54.139999, 55.962502), (datetime.date(2018, 9, 12), 56.235001, 56.25, 54.959999, 55.267502), (datetime.date(2018, 9, 13), 55.880001, 57.087502, 55.642502, 56.602501), (datetime.date(2018, 9, 14), 56.4375, 56.709999, 55.630001, 55.959999), (datetime.date(2018, 9, 17), 55.537498, 55.737499, 54.317501, 54.470001), (datetime.date(2018, 9, 18), 54.447498, 55.462502, 54.279999, 54.560001), (datetime.date(2018, 9, 19), 54.625, 54.904999, 53.825001, 54.592499), (datetime.date(2018, 9, 20), 55.060001, 55.57, 54.787498, 55.0075), (datetime.date(2018, 9, 21), 55.195, 55.34, 54.322498, 54.415001), (datetime.date(2018, 9, 24), 54.205002, 55.314999, 54.157501, 55.197498), (datetime.date(2018, 9, 25), 54.9375, 55.705002, 54.924999, 55.547501), (datetime.date(2018, 9, 26), 55.25, 55.9375, 54.939999, 55.105), (datetime.date(2018, 9, 27), 55.955002, 56.610001, 55.884998, 56.237499), (datetime.date(2018, 9, 28), 56.197498, 56.459999, 56.005001, 56.435001), (datetime.date(2018, 10, 1), 56.987499, 57.355, 56.587502, 56.814999), (datetime.date(2018, 10, 2), 56.8125, 57.5, 56.657501, 57.32), (datetime.date(2018, 10, 3), 57.512501, 58.3675, 57.445, 58.017502), (datetime.date(2018, 10, 4), 57.695, 58.087502, 56.682499, 56.997501), (datetime.date(2018, 10, 5), 56.990002, 57.102501, 55.145, 56.072498), (datetime.date(2018, 10, 8), 55.552502, 56.200001, 55.049999, 55.942501), (datetime.date(2018, 10, 9), 55.91, 56.817501, 55.5625, 56.717499), (datetime.date(2018, 10, 10), 56.365002, 56.587502, 54.012501, 54.09), (datetime.date(2018, 10, 11), 53.630001, 54.875, 53.080002, 53.612499), (datetime.date(2018, 10, 12), 55.105, 55.720001, 54.209999, 55.5275), (datetime.date(2018, 10, 15), 55.290001, 55.4575, 54.317501, 54.34), (datetime.date(2018, 10, 16), 54.732498, 55.747501, 54.189999, 55.537498), (datetime.date(2018, 10, 17), 55.575001, 55.66, 54.834999, 55.297501), (datetime.date(2018, 10, 18), 54.465, 54.935001, 53.25, 54.005001), (datetime.date(2018, 10, 19), 54.514999, 55.314999, 54.357498, 54.827499), (datetime.date(2018, 10, 22), 54.947498, 55.84, 54.735001, 55.162498), (datetime.date(2018, 10, 23), 53.9575, 55.8125, 53.674999, 55.682499), (datetime.date(2018, 10, 24), 55.650002, 56.057499, 53.634998, 53.772499), (datetime.date(2018, 10, 25), 54.427502, 55.345001, 54.1875, 54.950001), (datetime.date(2018, 10, 26), 53.974998, 55.047501, 53.1675, 54.075001), (datetime.date(2018, 10, 29), 54.797501, 54.922501, 51.522499, 53.060001), (datetime.date(2018, 10, 30), 52.787498, 53.794998, 52.317501, 53.325001), (datetime.date(2018, 10, 31), 54.220001, 55.112499, 54.154999, 54.715), (datetime.date(2018, 11, 1), 54.762501, 55.59, 54.202499, 55.555), (datetime.date(2018, 11, 2), 52.387501, 53.412498, 51.357498, 51.869999), (datetime.date(2018, 11, 5), 51.075001, 51.0975, 49.5425, 50.397499), (datetime.date(2018, 11, 6), 50.48, 51.18, 50.422501, 50.942501), (datetime.date(2018, 11, 7), 51.4925, 52.514999, 51.032501, 52.487499), (datetime.date(2018, 11, 8), 52.494999, 52.529999, 51.6875, 52.122501), (datetime.date(2018, 11, 9), 51.387501, 51.502499, 50.5625, 51.1175), (datetime.date(2018, 11, 12), 49.75, 49.962502, 48.447498, 48.5425), (datetime.date(2018, 11, 13), 47.907501, 49.294998, 47.862499, 48.057499), (datetime.date(2018, 11, 14), 48.474998, 48.619999, 46.482498, 46.700001), (datetime.date(2018, 11, 15), 47.0975, 47.9925, 46.724998, 47.852501), (datetime.date(2018, 11, 16), 47.625, 48.7425, 47.365002, 48.3825), (datetime.date(2018, 11, 19), 47.5, 47.674999, 46.247501, 46.465), (datetime.date(2018, 11, 20), 44.592499, 45.3675, 43.877499, 44.244999), (datetime.date(2018, 11, 21), 44.932499, 45.067501, 44.137501, 44.195), (datetime.date(2018, 11, 23), 43.735001, 44.150002, 43.025002, 43.072498), (datetime.date(2018, 11, 26), 43.560001, 43.737499, 42.564999, 43.654999), (datetime.date(2018, 11, 27), 42.877499, 43.692501, 42.720001, 43.560001), (datetime.date(2018, 11, 28), 44.182499, 45.322498, 43.732498, 45.235001), (datetime.date(2018, 11, 29), 45.665001, 45.700001, 44.424999, 44.887501), (datetime.date(2018, 11, 30), 45.072498, 45.0825, 44.2575, 44.645), (datetime.date(2018, 12, 3), 46.115002, 46.235001, 45.302502, 46.205002), (datetime.date(2018, 12, 4), 45.237499, 45.5975, 44.067501, 44.172501), (datetime.date(2018, 12, 6), 42.939999, 43.695, 42.605, 43.68), (datetime.date(2018, 12, 7), 43.372501, 43.622501, 42.075001, 42.122501), (datetime.date(2018, 12, 10), 41.25, 42.522499, 40.8325, 42.400002), (datetime.date(2018, 12, 11), 42.915001, 42.947498, 41.75, 42.157501), (datetime.date(2018, 12, 12), 42.599998, 42.98, 42.255001, 42.275002), (datetime.date(2018, 12, 13), 42.622501, 43.142502, 42.387501, 42.737499), (datetime.date(2018, 12, 14), 42.25, 42.27, 41.32, 41.369999), (datetime.date(2018, 12, 17), 41.362499, 42.087502, 40.682499, 40.985001), (datetime.date(2018, 12, 18), 41.345001, 41.8825, 41.0975, 41.517502), (datetime.date(2018, 12, 19), 41.5, 41.862499, 39.772499, 40.2225), (datetime.date(2018, 12, 20), 40.099998, 40.5275, 38.825001, 39.2075), (datetime.date(2018, 12, 21), 39.215, 39.540001, 37.407501, 37.682499), (datetime.date(2018, 12, 24), 37.037498, 37.887501, 36.647499, 36.7075), (datetime.date(2018, 12, 26), 37.075001, 39.307499, 36.68, 39.2925), (datetime.date(2018, 12, 27), 38.959999, 39.192501, 37.517502, 39.037498), (datetime.date(2018, 12, 28), 39.375, 39.630001, 38.637501, 39.057499), (datetime.date(2018, 12, 31), 39.6325, 39.84, 39.119999, 39.435001), (datetime.date(2019, 1, 2), 38.7225, 39.712502, 38.557499, 39.48), (datetime.date(2019, 1, 3), 35.994999, 36.43, 35.5, 35.547501), (datetime.date(2019, 1, 4), 36.1325, 37.137501, 35.950001, 37.064999), (datetime.date(2019, 1, 7), 37.174999, 37.2075, 36.474998, 36.982498), (datetime.date(2019, 1, 8), 37.389999, 37.955002, 37.130001, 37.6875), (datetime.date(2019, 1, 9), 37.822498, 38.6325, 37.407501, 38.327499), (datetime.date(2019, 1, 10), 38.125, 38.4925, 37.715, 38.450001), (datetime.date(2019, 1, 11), 38.220001, 38.424999, 37.877499, 38.072498), (datetime.date(2019, 1, 14), 37.712502, 37.817501, 37.305, 37.5), (datetime.date(2019, 1, 15), 37.567501, 38.3475, 37.512501, 38.267502), (datetime.date(2019, 1, 16), 38.27, 38.970001, 38.25, 38.735001), (datetime.date(2019, 1, 17), 38.549999, 39.415001, 38.314999, 38.965), (datetime.date(2019, 1, 18), 39.375, 39.470001, 38.994999, 39.205002), (datetime.date(2019, 1, 22), 39.102501, 39.182499, 38.154999, 38.325001), (datetime.date(2019, 1, 23), 38.537498, 38.785, 37.924999, 38.48), (datetime.date(2019, 1, 24), 38.5275, 38.619999, 37.935001, 38.174999), (datetime.date(2019, 1, 25), 38.869999, 39.532501, 38.580002, 39.439999), (datetime.date(2019, 1, 28), 38.947498, 39.0825, 38.415001, 39.075001), (datetime.date(2019, 1, 29), 39.0625, 39.532501, 38.5275, 38.669998), (datetime.date(2019, 1, 30), 40.8125, 41.537498, 40.057499, 41.3125), (datetime.date(2019, 1, 31), 41.5275, 42.25, 41.139999, 41.610001), (datetime.date(2019, 2, 1), 41.740002, 42.244999, 41.482498, 41.630001), (datetime.date(2019, 2, 4), 41.852501, 42.915001, 41.82, 42.8125), (datetime.date(2019, 2, 5), 43.215, 43.77, 43.087502, 43.544998), (datetime.date(2019, 2, 6), 43.662498, 43.892502, 43.212502, 43.560001), (datetime.date(2019, 2, 7), 43.099998, 43.485001, 42.584999, 42.735001), (datetime.date(2019, 2, 8), 42.247501, 42.665001, 42.105, 42.602501), (datetime.date(2019, 2, 11), 42.762501, 42.802502, 42.3125, 42.357498), (datetime.date(2019, 2, 12), 42.525002, 42.75, 42.424999, 42.7225), (datetime.date(2019, 2, 13), 42.8475, 43.119999, 42.48, 42.544998), (datetime.date(2019, 2, 14), 42.427502, 42.814999, 42.345001, 42.700001), (datetime.date(2019, 2, 15), 42.8125, 42.924999, 42.4375, 42.605), (datetime.date(2019, 2, 19), 42.427502, 42.860001, 42.372501, 42.732498), (datetime.date(2019, 2, 20), 42.797501, 43.330002, 42.747501, 43.0075), (datetime.date(2019, 2, 21), 42.950001, 43.092499, 42.575001, 42.764999), (datetime.date(2019, 2, 22), 42.895, 43.25, 42.845001, 43.2425), (datetime.date(2019, 2, 25), 43.540001, 43.967499, 43.487499, 43.557499), (datetime.date(2019, 2, 26), 43.427502, 43.825001, 43.2925, 43.5825), (datetime.date(2019, 2, 27), 43.302502, 43.75, 43.182499, 43.717499), (datetime.date(2019, 2, 28), 43.580002, 43.727501, 43.23, 43.287498), (datetime.date(2019, 3, 1), 43.57, 43.787498, 43.2225, 43.7425), (datetime.date(2019, 3, 4), 43.922501, 44.4375, 43.4925, 43.962502), (datetime.date(2019, 3, 5), 43.985001, 44.0, 43.634998, 43.8825), (datetime.date(2019, 3, 6), 43.6675, 43.872501, 43.485001, 43.630001), (datetime.date(2019, 3, 7), 43.467499, 43.610001, 43.005001, 43.125), (datetime.date(2019, 3, 8), 42.580002, 43.267502, 42.375, 43.227501), (datetime.date(2019, 3, 11), 43.872501, 44.779999, 43.837502, 44.724998), (datetime.date(2019, 3, 12), 45.0, 45.6675, 44.842499, 45.227501), (datetime.date(2019, 3, 13), 45.5625, 45.825001, 45.23, 45.427502), (datetime.date(2019, 3, 14), 45.974998, 46.025002, 45.639999, 45.932499), (datetime.date(2019, 3, 15), 46.212502, 46.8325, 45.935001, 46.529999), (datetime.date(2019, 3, 18), 46.450001, 47.0975, 46.447498, 47.005001), (datetime.date(2019, 3, 19), 47.087502, 47.247501, 46.48, 46.6325), (datetime.date(2019, 3, 20), 46.557499, 47.372501, 46.182499, 47.040001), (datetime.date(2019, 3, 21), 47.505001, 49.0825, 47.452499, 48.772499), (datetime.date(2019, 3, 22), 48.834999, 49.422501, 47.695, 47.762501), (datetime.date(2019, 3, 25), 47.877499, 47.994999, 46.650002, 47.185001), (datetime.date(2019, 3, 26), 47.915001, 48.220001, 46.145, 46.697498), (datetime.date(2019, 3, 27), 47.1875, 47.439999, 46.637501, 47.1175), (datetime.date(2019, 3, 28), 47.237499, 47.389999, 46.8825, 47.18), (datetime.date(2019, 3, 29), 47.4575, 47.52, 47.134998, 47.487499), (datetime.date(2019, 4, 1), 47.91, 47.919998, 47.095001, 47.810001), (datetime.date(2019, 4, 2), 47.772499, 48.615002, 47.762501, 48.505001), (datetime.date(2019, 4, 3), 48.3125, 49.125, 48.287498, 48.837502), (datetime.date(2019, 4, 4), 48.697498, 49.092499, 48.285, 48.922501), (datetime.date(2019, 4, 5), 49.112499, 49.275002, 48.982498, 49.25), (datetime.date(2019, 4, 8), 49.105, 50.057499, 49.084999, 50.025002), (datetime.date(2019, 4, 9), 50.080002, 50.712502, 49.807499, 49.875), (datetime.date(2019, 4, 10), 49.669998, 50.185001, 49.544998, 50.154999), (datetime.date(2019, 4, 11), 50.212502, 50.25, 49.610001, 49.737499), (datetime.date(2019, 4, 12), 49.799999, 50.035, 49.052502, 49.717499), (datetime.date(2019, 4, 15), 49.645, 49.962502, 49.502499, 49.807499), (datetime.date(2019, 4, 16), 49.865002, 50.342499, 49.639999, 49.8125), (datetime.date(2019, 4, 17), 49.884998, 50.845001, 49.6525, 50.782501), (datetime.date(2019, 4, 18), 50.779999, 51.037498, 50.630001, 50.965), (datetime.date(2019, 4, 22), 50.7075, 51.235001, 50.584999, 51.1325), (datetime.date(2019, 4, 23), 51.107498, 51.9375, 50.974998, 51.869999), (datetime.date(2019, 4, 24), 51.84, 52.119999, 51.762501, 51.790001), (datetime.date(2019, 4, 25), 51.7075, 51.939999, 51.279999, 51.32), (datetime.date(2019, 4, 26), 51.224998, 51.25, 50.529999, 51.075001), (datetime.date(2019, 4, 29), 51.099998, 51.4925, 50.965, 51.1525), (datetime.date(2019, 4, 30), 50.764999, 50.849998, 49.7775, 50.1675), (datetime.date(2019, 5, 1), 52.470001, 53.827499, 52.307499, 52.630001), (datetime.date(2019, 5, 2), 52.459999, 53.162498, 52.032501, 52.287498), (datetime.date(2019, 5, 3), 52.7225, 52.959999, 52.557499, 52.9375), (datetime.date(2019, 5, 6), 51.072498, 52.209999, 50.875, 52.119999), (datetime.date(2019, 5, 7), 51.470001, 51.855, 50.2075, 50.715), (datetime.date(2019, 5, 8), 50.474998, 51.334999, 50.4375, 50.724998), (datetime.date(2019, 5, 9), 50.099998, 50.419998, 49.165001, 50.18), (datetime.date(2019, 5, 10), 49.355, 49.712502, 48.192501, 49.294998), (datetime.date(2019, 5, 13), 46.927502, 47.369999, 45.712502, 46.43), (datetime.date(2019, 5, 14), 46.602501, 47.424999, 46.352501, 47.165001), (datetime.date(2019, 5, 15), 46.567501, 47.9375, 46.505001, 47.73), (datetime.date(2019, 5, 16), 47.477501, 48.1175, 47.209999, 47.52), (datetime.date(2019, 5, 17), 46.732498, 47.724998, 46.689999, 47.25), (datetime.date(2019, 5, 20), 45.880001, 46.087502, 45.07, 45.772499), (datetime.date(2019, 5, 21), 46.305, 47.0, 46.174999, 46.650002), (datetime.date(2019, 5, 22), 46.165001, 46.427502, 45.637501, 45.695), (datetime.date(2019, 5, 23), 44.950001, 45.134998, 44.452499, 44.915001), (datetime.date(2019, 5, 24), 45.049999, 45.535, 44.654999, 44.7425), (datetime.date(2019, 5, 28), 44.73, 45.147499, 44.477501, 44.557499), (datetime.date(2019, 5, 29), 44.105, 44.837502, 44.0, 44.345001), (datetime.date(2019, 5, 30), 44.487499, 44.807499, 44.1675, 44.575001), (datetime.date(2019, 5, 31), 44.057499, 44.497501, 43.747501, 43.767502), (datetime.date(2019, 6, 3), 43.900002, 44.48, 42.567501, 43.325001), (datetime.date(2019, 6, 4), 43.860001, 44.9575, 43.630001, 44.91), (datetime.date(2019, 6, 5), 46.07, 46.247501, 45.285, 45.634998), (datetime.date(2019, 6, 6), 45.77, 46.3675, 45.537498, 46.305), (datetime.date(2019, 6, 7), 46.627499, 47.98, 46.442501, 47.537498), (datetime.date(2019, 6, 10), 47.952499, 48.842499, 47.904999, 48.145), (datetime.date(2019, 6, 11), 48.715, 49.0, 48.400002, 48.702499), (datetime.date(2019, 6, 12), 48.487499, 48.9925, 48.3475, 48.547501), (datetime.date(2019, 6, 13), 48.674999, 49.197498, 48.400002, 48.537498), (datetime.date(2019, 6, 14), 47.887501, 48.397499, 47.575001, 48.185001), (datetime.date(2019, 6, 17), 48.224998, 48.740002, 48.0425, 48.4725), (datetime.date(2019, 6, 18), 49.012501, 50.072498, 48.802502, 49.612499), (datetime.date(2019, 6, 19), 49.919998, 49.970001, 49.327499, 49.467499), (datetime.date(2019, 6, 20), 50.092499, 50.1525, 49.5075, 49.865002), (datetime.date(2019, 6, 21), 49.700001, 50.212502, 49.537498, 49.695), (datetime.date(2019, 6, 24), 49.634998, 50.040001, 49.5425, 49.645), (datetime.date(2019, 6, 25), 49.607498, 49.814999, 48.822498, 48.892502), (datetime.date(2019, 6, 26), 49.442501, 50.247501, 49.337502, 49.950001), (datetime.date(2019, 6, 27), 50.072498, 50.392502, 49.892502, 49.935001), (datetime.date(2019, 6, 28), 49.669998, 49.875, 49.262501, 49.48), (datetime.date(2019, 7, 1), 50.7925, 51.122501, 50.162498, 50.387501), (datetime.date(2019, 7, 2), 50.352501, 50.782501, 50.34, 50.682499), (datetime.date(2019, 7, 3), 50.82, 51.110001, 50.672501, 51.102501), (datetime.date(2019, 7, 5), 50.837502, 51.27, 50.724998, 51.057499), (datetime.date(2019, 7, 8), 50.202499, 50.349998, 49.602501, 50.005001), (datetime.date(2019, 7, 9), 49.799999, 50.377499, 49.702499, 50.310001), (datetime.date(2019, 7, 10), 50.462502, 50.932499, 50.389999, 50.807499), (datetime.date(2019, 7, 11), 50.827499, 51.0975, 50.427502, 50.4375), (datetime.date(2019, 7, 12), 50.612499, 51.0, 50.549999, 50.825001), (datetime.date(2019, 7, 15), 51.022499, 51.467499, 51.0, 51.302502), (datetime.date(2019, 7, 16), 51.147499, 51.5275, 50.875, 51.125), (datetime.date(2019, 7, 17), 51.012501, 51.272499, 50.817501, 50.837502), (datetime.date(2019, 7, 18), 51.0, 51.470001, 50.924999, 51.415001), (datetime.date(2019, 7, 19), 51.447498, 51.625, 50.59, 50.647499), (datetime.date(2019, 7, 22), 50.912498, 51.807499, 50.9025, 51.805), (datetime.date(2019, 7, 23), 52.115002, 52.227501, 51.822498, 52.209999), (datetime.date(2019, 7, 24), 51.9175, 52.287498, 51.7925, 52.1675), (datetime.date(2019, 7, 25), 52.2225, 52.310001, 51.682499, 51.755001), (datetime.date(2019, 7, 26), 51.869999, 52.432499, 51.785, 51.935001), (datetime.date(2019, 7, 29), 52.115002, 52.66, 52.110001, 52.419998), (datetime.date(2019, 7, 30), 52.189999, 52.540001, 51.827499, 52.195), (datetime.date(2019, 7, 31), 54.105, 55.342499, 52.825001, 53.259998), (datetime.date(2019, 8, 1), 53.474998, 54.5075, 51.685001, 52.107498), (datetime.date(2019, 8, 2), 51.3825, 51.607498, 50.407501, 51.005001), (datetime.date(2019, 8, 5), 49.497501, 49.662498, 48.145, 48.334999), (datetime.date(2019, 8, 6), 49.077499, 49.517502, 48.509998, 49.25), (datetime.date(2019, 8, 7), 48.852501, 49.889999, 48.455002, 49.759998), (datetime.date(2019, 8, 8), 50.049999, 50.8825, 49.8475, 50.857498), (datetime.date(2019, 8, 9), 50.325001, 50.689999, 49.822498, 50.247501), (datetime.date(2019, 8, 12), 49.904999, 50.512501, 49.787498, 50.119999), (datetime.date(2019, 8, 13), 50.255001, 53.035, 50.119999, 52.2425), (datetime.date(2019, 8, 14), 50.790001, 51.610001, 50.647499, 50.6875), (datetime.date(2019, 8, 15), 50.865002, 51.285, 49.9175, 50.435001), (datetime.date(2019, 8, 16), 51.07, 51.790001, 50.959999, 51.625), (datetime.date(2019, 8, 19), 52.654999, 53.182499, 52.5075, 52.587502), (datetime.date(2019, 8, 20), 52.720001, 53.337502, 52.580002, 52.59), (datetime.date(2019, 8, 21), 53.247501, 53.412498, 52.900002, 53.16), (datetime.date(2019, 8, 22), 53.297501, 53.610001, 52.6875, 53.115002), (datetime.date(2019, 8, 23), 52.357498, 53.012501, 50.25, 50.66), (datetime.date(2019, 8, 26), 51.465, 51.797501, 51.264999, 51.622501), (datetime.date(2019, 8, 27), 51.965, 52.137501, 50.8825, 51.040001), (datetime.date(2019, 8, 28), 51.025002, 51.43, 50.830002, 51.3825), (datetime.date(2019, 8, 29), 52.125, 52.330002, 51.665001, 52.252499), (datetime.date(2019, 8, 30), 52.540001, 52.612499, 51.799999, 52.185001), (datetime.date(2019, 9, 3), 51.607498, 51.744999, 51.055, 51.424999), (datetime.date(2019, 9, 4), 52.0975, 52.369999, 51.830002, 52.297501), (datetime.date(2019, 9, 5), 53.0, 53.4925, 52.877499, 53.32), (datetime.date(2019, 9, 6), 53.512501, 53.605, 53.127499, 53.314999), (datetime.date(2019, 9, 9), 53.709999, 54.110001, 52.767502, 53.5425), (datetime.date(2019, 9, 10), 53.465, 54.195, 52.927502, 54.174999), (datetime.date(2019, 9, 11), 54.517502, 55.927502, 54.432499, 55.897499), (datetime.date(2019, 9, 12), 56.200001, 56.605, 55.715, 55.772499), (datetime.date(2019, 9, 13), 55.0, 55.197498, 54.255001, 54.6875), (datetime.date(2019, 9, 16), 54.432499, 55.032501, 54.389999, 54.974998), (datetime.date(2019, 9, 17), 54.990002, 55.205002, 54.779999, 55.174999), (datetime.date(2019, 9, 18), 55.264999, 55.712502, 54.860001, 55.692501), (datetime.date(2019, 9, 19), 55.502499, 55.939999, 55.092499, 55.240002), (datetime.date(2019, 9, 20), 55.345001, 55.639999, 54.3675, 54.432499), (datetime.date(2019, 9, 23), 54.737499, 54.959999, 54.412498, 54.68), (datetime.date(2019, 9, 24), 55.2575, 55.622501, 54.297501, 54.419998), (datetime.date(2019, 9, 25), 54.637501, 55.375, 54.285, 55.2575), (datetime.date(2019, 9, 26), 55.0, 55.235001, 54.7075, 54.9725), (datetime.date(2019, 9, 27), 55.134998, 55.240002, 54.32, 54.705002), (datetime.date(2019, 9, 30), 55.224998, 56.145, 55.197498, 55.9925), (datetime.date(2019, 10, 1), 56.267502, 57.055, 56.049999, 56.147499), (datetime.date(2019, 10, 2), 55.764999, 55.895, 54.482498, 54.740002), (datetime.date(2019, 10, 3), 54.607498, 55.240002, 53.782501, 55.205002), (datetime.date(2019, 10, 4), 56.41, 56.872501, 55.9725, 56.752499), (datetime.date(2019, 10, 7), 56.567501, 57.482498, 56.459999, 56.764999), (datetime.date(2019, 10, 8), 56.455002, 57.014999, 56.0825, 56.099998), (datetime.date(2019, 10, 9), 56.7575, 56.947498, 56.41, 56.7575), (datetime.date(2019, 10, 10), 56.982498, 57.610001, 56.825001, 57.522499), (datetime.date(2019, 10, 11), 58.237499, 59.41, 58.077499, 59.052502), (datetime.date(2019, 10, 14), 58.724998, 59.532501, 58.6675, 58.967499), (datetime.date(2019, 10, 15), 59.0975, 59.412498, 58.720001, 58.830002), (datetime.date(2019, 10, 16), 58.342499, 58.810001, 58.299999, 58.592499), (datetime.date(2019, 10, 17), 58.772499, 59.037498, 58.380001, 58.82), (datetime.date(2019, 10, 18), 58.647499, 59.395, 58.572498, 59.102501), (datetime.date(2019, 10, 21), 59.380001, 60.247501, 59.330002, 60.127499), (datetime.date(2019, 10, 22), 60.290001, 60.549999, 59.904999, 59.990002), (datetime.date(2019, 10, 23), 60.525002, 60.810001, 60.305, 60.794998), (datetime.date(2019, 10, 24), 61.127499, 61.200001, 60.452499, 60.895), (datetime.date(2019, 10, 25), 60.790001, 61.682499, 60.720001, 61.645), (datetime.date(2019, 10, 28), 61.855, 62.3125, 61.68, 62.262501), (datetime.date(2019, 10, 29), 62.2425, 62.4375, 60.642502, 60.822498), (datetime.date(2019, 10, 30), 61.189999, 61.325001, 60.302502, 60.814999), (datetime.date(2019, 10, 31), 61.810001, 62.2925, 59.314999, 62.189999), (datetime.date(2019, 11, 1), 62.384998, 63.982498, 62.290001, 63.955002), (datetime.date(2019, 11, 4), 64.332497, 64.462502, 63.845001, 64.375), (datetime.date(2019, 11, 5), 64.262497, 64.547501, 64.080002, 64.282501), (datetime.date(2019, 11, 6), 64.192497, 64.372498, 63.842499, 64.309998), (datetime.date(2019, 11, 7), 64.684998, 65.087502, 64.527496, 64.857498), (datetime.date(2019, 11, 8), 64.672501, 65.110001, 64.212502, 65.035004), (datetime.date(2019, 11, 11), 64.574997, 65.6175, 64.57, 65.550003), (datetime.date(2019, 11, 12), 65.387497, 65.697502, 65.230003, 65.489998), (datetime.date(2019, 11, 13), 65.282501, 66.195, 65.267502, 66.1175), (datetime.date(2019, 11, 14), 65.9375, 66.220001, 65.525002, 65.660004), (datetime.date(2019, 11, 15), 65.919998, 66.445, 65.752502, 66.440002), (datetime.date(2019, 11, 18), 66.449997, 66.857498, 66.057503, 66.775002), (datetime.date(2019, 11, 19), 66.974998, 67.0, 66.347504, 66.572502), (datetime.date(2019, 11, 20), 66.385002, 66.519997, 65.099998, 65.797501), (datetime.date(2019, 11, 21), 65.922501, 66.002502, 65.294998, 65.502502), (datetime.date(2019, 11, 22), 65.647499, 65.794998, 65.209999, 65.445), (datetime.date(2019, 11, 25), 65.677498, 66.610001, 65.629997, 66.592499), (datetime.date(2019, 11, 26), 66.735001, 66.790001, 65.625, 66.072502), (datetime.date(2019, 11, 27), 66.394997, 66.995003, 66.327499, 66.959999), (datetime.date(2019, 11, 29), 66.650002, 67.0, 66.474998, 66.8125), (datetime.date(2019, 12, 2), 66.817497, 67.0625, 65.862503, 66.040001), (datetime.date(2019, 12, 3), 64.577499, 64.8825, 64.072502, 64.862503), (datetime.date(2019, 12, 4), 65.267502, 65.827499, 65.169998, 65.434998), (datetime.date(2019, 12, 5), 65.947502, 66.472504, 65.682503, 66.394997), (datetime.date(2019, 12, 6), 66.870003, 67.75, 66.824997, 67.677498), (datetime.date(2019, 12, 9), 67.5, 67.699997, 66.227501, 66.730003), (datetime.date(2019, 12, 10), 67.150002, 67.517502, 66.464996, 67.120003), (datetime.date(2019, 12, 11), 67.202499, 67.775002, 67.125, 67.692497), (datetime.date(2019, 12, 12), 66.945, 68.139999, 66.830002, 67.864998), (datetime.date(2019, 12, 13), 67.864998, 68.824997, 67.732498, 68.787498), (datetime.date(2019, 12, 16), 69.25, 70.197502, 69.245003, 69.964996), (datetime.date(2019, 12, 17), 69.892502, 70.442497, 69.699997, 70.102501), (datetime.date(2019, 12, 18), 69.949997, 70.474998, 69.779999, 69.934998), (datetime.date(2019, 12, 19), 69.875, 70.294998, 69.737503, 70.004997), (datetime.date(2019, 12, 20), 70.557503, 70.662498, 69.639999, 69.860001), (datetime.date(2019, 12, 23), 70.1325, 71.0625, 70.092499, 71.0), (datetime.date(2019, 12, 24), 71.172501, 71.222504, 70.730003, 71.067497), (datetime.date(2019, 12, 26), 71.205002, 72.495003, 71.175003, 72.477501), (datetime.date(2019, 12, 27), 72.779999, 73.4925, 72.029999, 72.449997), (datetime.date(2019, 12, 30), 72.364998, 73.172501, 71.305, 72.879997), (datetime.date(2019, 12, 31), 72.482498, 73.419998, 72.379997, 73.412498), (datetime.date(2020, 1, 2), 74.059998, 75.150002, 73.797501, 75.087502), (datetime.date(2020, 1, 3), 74.287498, 75.144997, 74.125, 74.357498), (datetime.date(2020, 1, 6), 73.447502, 74.989998, 73.1875, 74.949997), (datetime.date(2020, 1, 7), 74.959999, 75.224998, 74.370003, 74.597504), (datetime.date(2020, 1, 8), 74.290001, 76.110001, 74.290001, 75.797501), (datetime.date(2020, 1, 9), 76.809998, 77.607498, 76.550003, 77.407501), (datetime.date(2020, 1, 10), 77.650002, 78.167503, 77.0625, 77.582497), (datetime.date(2020, 1, 13), 77.910004, 79.267502, 77.787498, 79.239998), (datetime.date(2020, 1, 14), 79.175003, 79.392502, 78.042503, 78.169998), (datetime.date(2020, 1, 15), 77.962502, 78.875, 77.387497, 77.834999), (datetime.date(2020, 1, 16), 78.397499, 78.925003, 78.022499, 78.809998), (datetime.date(2020, 1, 17), 79.067497, 79.684998, 78.75, 79.682503), (datetime.date(2020, 1, 21), 79.297501, 79.754997, 79.0, 79.142502), (datetime.date(2020, 1, 22), 79.644997, 79.997498, 79.327499, 79.425003), (datetime.date(2020, 1, 23), 79.480003, 79.889999, 78.912498, 79.807503), (datetime.date(2020, 1, 24), 80.0625, 80.832497, 79.379997, 79.577499), (datetime.date(2020, 1, 27), 77.514999, 77.942497, 76.220001, 77.237503), (datetime.date(2020, 1, 28), 78.150002, 79.599998, 78.047501, 79.422501), (datetime.date(2020, 1, 29), 81.112503, 81.962502, 80.345001, 81.084999), (datetime.date(2020, 1, 30), 80.135002, 81.022499, 79.6875, 80.967499), (datetime.date(2020, 1, 31), 80.232498, 80.669998, 77.072502, 77.377502), (datetime.date(2020, 2, 3), 76.074997, 78.372498, 75.555, 77.165001), (datetime.date(2020, 2, 4), 78.827499, 79.910004, 78.407501, 79.712502), (datetime.date(2020, 2, 5), 80.879997, 81.190002, 79.737503, 80.362503), (datetime.date(2020, 2, 6), 80.642502, 81.305, 80.065002, 81.302498), (datetime.date(2020, 2, 7), 80.592499, 80.849998, 79.5, 80.0075), (datetime.date(2020, 2, 10), 78.544998, 80.387497, 78.462502, 80.387497), (datetime.date(2020, 2, 11), 80.900002, 80.974998, 79.677498, 79.902496), (datetime.date(2020, 2, 12), 80.3675, 81.805, 80.3675, 81.800003), (datetime.date(2020, 2, 13), 81.047501, 81.555, 80.837502, 81.217499), (datetime.date(2020, 2, 14), 81.184998, 81.495003, 80.712502, 81.237503), (datetime.date(2020, 2, 18), 78.839996, 79.9375, 78.652496, 79.75), (datetime.date(2020, 2, 19), 80.0, 81.142502, 80.0, 80.904999), (datetime.date(2020, 2, 20), 80.657501, 81.162498, 79.552498, 80.074997), (datetime.date(2020, 2, 21), 79.654999, 80.112503, 77.625, 78.262497), (datetime.date(2020, 2, 24), 74.315002, 76.044998, 72.307503, 74.544998), (datetime.date(2020, 2, 25), 75.237503, 75.6325, 71.532501, 72.019997), (datetime.date(2020, 2, 26), 71.6325, 74.470001, 71.625, 73.162498), (datetime.date(2020, 2, 27), 70.275002, 71.5, 68.239998, 68.379997), (datetime.date(2020, 2, 28), 64.315002, 69.602501, 64.092499, 68.339996), (datetime.date(2020, 3, 2), 70.57, 75.360001, 69.43, 74.702499), (datetime.date(2020, 3, 3), 75.917503, 76.0, 71.449997, 72.330002), (datetime.date(2020, 3, 4), 74.110001, 75.849998, 73.282501, 75.684998), (datetime.date(2020, 3, 5), 73.879997, 74.887497, 72.852501, 73.230003), (datetime.date(2020, 3, 6), 70.5, 72.705002, 70.307503, 72.2575), (datetime.date(2020, 3, 9), 65.9375, 69.522499, 65.75, 66.542503), (datetime.date(2020, 3, 10), 69.285004, 71.610001, 67.342499, 71.334999), (datetime.date(2020, 3, 11), 69.347504, 70.305, 67.964996, 68.857498), (datetime.date(2020, 3, 12), 63.985001, 67.5, 62.0, 62.057499), (datetime.date(2020, 3, 13), 66.222504, 69.980003, 63.237499, 69.4925), (datetime.date(2020, 3, 16), 60.487499, 64.769997, 60.0, 60.552502), (datetime.date(2020, 3, 17), 61.877499, 64.402496, 59.599998, 63.215), (datetime.date(2020, 3, 18), 59.942501, 62.5, 59.279999, 61.6675), (datetime.date(2020, 3, 19), 61.8475, 63.209999, 60.6525, 61.195), (datetime.date(2020, 3, 20), 61.794998, 62.9575, 57.0, 57.310001), (datetime.date(2020, 3, 23), 57.02, 57.125, 53.1525, 56.092499), (datetime.date(2020, 3, 24), 59.09, 61.922501, 58.575001, 61.720001), (datetime.date(2020, 3, 25), 62.6875, 64.5625, 61.075001, 61.380001), (datetime.date(2020, 3, 26), 61.630001, 64.669998, 61.59, 64.610001), (datetime.date(2020, 3, 27), 63.1875, 63.967499, 61.762501, 61.935001), (datetime.date(2020, 3, 30), 62.685001, 63.880001, 62.349998, 63.702499), (datetime.date(2020, 3, 31), 63.900002, 65.622498, 63.0, 63.572498), (datetime.date(2020, 4, 1), 61.625, 62.18, 59.782501, 60.227501), (datetime.date(2020, 4, 2), 60.084999, 61.287498, 59.224998, 61.232498), (datetime.date(2020, 4, 3), 60.700001, 61.424999, 59.7425, 60.352501), (datetime.date(2020, 4, 6), 62.724998, 65.777496, 62.345001, 65.6175), (datetime.date(2020, 4, 7), 67.699997, 67.925003, 64.75, 64.857498), (datetime.date(2020, 4, 8), 65.684998, 66.842499, 65.307503, 66.517502), (datetime.date(2020, 4, 9), 67.175003, 67.517502, 66.175003, 66.997498), (datetime.date(2020, 4, 13), 67.077499, 68.425003, 66.457497, 68.3125), (datetime.date(2020, 4, 14), 70.0, 72.0625, 69.512497, 71.762497), (datetime.date(2020, 4, 15), 70.599998, 71.582497, 70.157501, 71.107498), (datetime.date(2020, 4, 16), 71.845001, 72.050003, 70.587502, 71.672501), (datetime.date(2020, 4, 17), 71.172501, 71.737503, 69.214996, 70.699997), (datetime.date(2020, 4, 20), 69.487503, 70.419998, 69.212502, 69.232498), (datetime.date(2020, 4, 21), 69.07, 69.3125, 66.357498, 67.092499), (datetime.date(2020, 4, 22), 68.402496, 69.474998, 68.050003, 69.025002), (datetime.date(2020, 4, 23), 68.967499, 70.4375, 68.717499, 68.7575), (datetime.date(2020, 4, 24), 69.300003, 70.752502, 69.25, 70.7425), (datetime.date(2020, 4, 27), 70.449997, 71.135002, 69.987503, 70.792503), (datetime.date(2020, 4, 28), 71.269997, 71.457497, 69.550003, 69.644997), (datetime.date(2020, 4, 29), 71.182503, 72.417503, 70.972504, 71.932503), (datetime.date(2020, 4, 30), 72.489998, 73.6325, 72.087502, 73.449997), (datetime.date(2020, 5, 1), 71.5625, 74.75, 71.462502, 72.267502), (datetime.date(2020, 5, 4), 72.292503, 73.422501, 71.580002, 73.290001), (datetime.date(2020, 5, 5), 73.764999, 75.25, 73.614998, 74.389999), (datetime.date(2020, 5, 6), 75.114998, 75.809998, 74.717499, 75.157501), (datetime.date(2020, 5, 7), 75.805, 76.292503, 75.4925, 75.934998), (datetime.date(2020, 5, 8), 76.410004, 77.587502, 76.072502, 77.532501), (datetime.date(2020, 5, 11), 77.025002, 79.262497, 76.809998, 78.752502), (datetime.date(2020, 5, 12), 79.457497, 79.922501, 77.727501, 77.852501), (datetime.date(2020, 5, 13), 78.037498, 78.987503, 75.802498, 76.912498), (datetime.date(2020, 5, 14), 76.127502, 77.447502, 75.3825, 77.385002), (datetime.date(2020, 5, 15), 75.087502, 76.974998, 75.052498, 76.927498), (datetime.date(2020, 5, 18), 78.292503, 79.125, 77.580002, 78.739998), (datetime.date(2020, 5, 19), 78.7575, 79.629997, 78.252502, 78.285004), (datetime.date(2020, 5, 20), 79.169998, 79.879997, 79.129997, 79.807503), (datetime.date(2020, 5, 21), 79.665001, 80.222504, 78.967499, 79.212502), (datetime.date(2020, 5, 22), 78.942497, 79.807503, 78.837502, 79.722504), (datetime.date(2020, 5, 26), 80.875, 81.059998, 79.125, 79.182503), (datetime.date(2020, 5, 27), 79.035004, 79.677498, 78.272499, 79.527496), (datetime.date(2020, 5, 28), 79.192497, 80.860001, 78.907501, 79.5625), (datetime.date(2020, 5, 29), 79.8125, 80.287498, 79.1175, 79.485001), (datetime.date(2020, 6, 1), 79.4375, 80.587502, 79.302498, 80.462502), (datetime.date(2020, 6, 2), 80.1875, 80.860001, 79.732498, 80.834999), (datetime.date(2020, 6, 3), 81.165001, 81.550003, 80.574997, 81.279999), (datetime.date(2020, 6, 4), 81.097504, 81.404999, 80.195, 80.580002), (datetime.date(2020, 6, 5), 80.837502, 82.9375, 80.807503, 82.875), (datetime.date(2020, 6, 8), 82.5625, 83.400002, 81.830002, 83.364998), (datetime.date(2020, 6, 9), 83.035004, 86.402496, 83.002502, 85.997498), (datetime.date(2020, 6, 10), 86.974998, 88.692497, 86.522499, 88.209999), (datetime.date(2020, 6, 11), 87.327499, 87.764999, 83.870003, 83.974998), (datetime.date(2020, 6, 12), 86.18, 86.949997, 83.555, 84.699997), (datetime.date(2020, 6, 15), 83.3125, 86.419998, 83.144997, 85.747498), (datetime.date(2020, 6, 16), 87.864998, 88.300003, 86.18, 88.019997), (datetime.date(2020, 6, 17), 88.787498, 88.849998, 87.772499, 87.897499), (datetime.date(2020, 6, 18), 87.852501, 88.362503, 87.305, 87.932503), (datetime.date(2020, 6, 19), 88.660004, 89.139999, 86.287498, 87.43), (datetime.date(2020, 6, 22), 87.834999, 89.864998, 87.787498, 89.717499), (datetime.date(2020, 6, 23), 91.0, 93.095001, 90.567497, 91.6325), (datetime.date(2020, 6, 24), 91.25, 92.197502, 89.629997, 90.014999), (datetime.date(2020, 6, 25), 90.175003, 91.25, 89.392502, 91.209999), (datetime.date(2020, 6, 26), 91.102501, 91.330002, 88.254997, 88.407501), (datetime.date(2020, 6, 29), 88.3125, 90.542503, 87.82, 90.445), (datetime.date(2020, 6, 30), 90.019997, 91.495003, 90.0, 91.199997), (datetime.date(2020, 7, 1), 91.279999, 91.839996, 90.977501, 91.027496), (datetime.date(2020, 7, 2), 91.962502, 92.6175, 90.910004, 91.027496), (datetime.date(2020, 7, 6), 92.5, 93.945, 92.467499, 93.462502), (datetime.date(2020, 7, 7), 93.852501, 94.654999, 93.057503, 93.172501), (datetime.date(2020, 7, 8), 94.18, 95.375, 94.089996, 95.342499), (datetime.date(2020, 7, 9), 96.262497, 96.317497, 94.672501, 95.752502), (datetime.date(2020, 7, 10), 95.334999, 95.980003, 94.705002, 95.919998), (datetime.date(2020, 7, 13), 97.264999, 99.955002, 95.2575, 95.477501), (datetime.date(2020, 7, 14), 94.839996, 97.254997, 93.877502, 97.057503), (datetime.date(2020, 7, 15), 98.989998, 99.247498, 96.489998, 97.724998), (datetime.date(2020, 7, 16), 96.5625, 97.404999, 95.904999, 96.522499), (datetime.date(2020, 7, 17), 96.987503, 97.147499, 95.839996, 96.327499), (datetime.date(2020, 7, 20), 96.417503, 98.5, 96.0625, 98.357498), (datetime.date(2020, 7, 21), 99.172501, 99.25, 96.7425, 97.0), (datetime.date(2020, 7, 22), 96.692497, 97.974998, 96.602501, 97.272499), (datetime.date(2020, 7, 23), 96.997498, 97.077499, 92.010002, 92.845001), (datetime.date(2020, 7, 24), 90.987503, 92.970001, 89.144997, 92.614998), (datetime.date(2020, 7, 27), 93.709999, 94.904999, 93.480003, 94.809998), (datetime.date(2020, 7, 28), 94.3675, 94.550003, 93.247498, 93.252502), (datetime.date(2020, 7, 29), 93.75, 95.230003, 93.712502, 95.040001), (datetime.date(2020, 7, 30), 94.1875, 96.297501, 93.767502, 96.190002), (datetime.date(2020, 7, 31), 102.885002, 106.415001, 100.824997, 106.260002), (datetime.date(2020, 8, 3), 108.199997, 111.637497, 107.892502, 108.9375), (datetime.date(2020, 8, 4), 109.1325, 110.790001, 108.387497, 109.665001), (datetime.date(2020, 8, 5), 109.377502, 110.392502, 108.897499, 110.0625), (datetime.date(2020, 8, 6), 110.404999, 114.412498, 109.797501, 113.902496), (datetime.date(2020, 8, 7), 113.205002, 113.675003, 110.292503, 111.112503), (datetime.date(2020, 8, 10), 112.599998, 113.775002, 110.0, 112.727501), (datetime.date(2020, 8, 11), 111.970001, 112.482498, 109.107498, 109.375), (datetime.date(2020, 8, 12), 110.497498, 113.275002, 110.297501, 113.010002), (datetime.date(2020, 8, 13), 114.43, 116.042503, 113.927498, 115.010002), (datetime.date(2020, 8, 14), 114.830002, 115.0, 113.044998, 114.907501), (datetime.date(2020, 8, 17), 116.0625, 116.087502, 113.962502, 114.607498), (datetime.date(2020, 8, 18), 114.352501, 116.0, 114.0075, 115.5625), (datetime.date(2020, 8, 19), 115.982498, 117.162498, 115.610001, 115.707497), (datetime.date(2020, 8, 20), 115.75, 118.392502, 115.732498, 118.275002), (datetime.date(2020, 8, 21), 119.262497, 124.8675, 119.25, 124.370003), (datetime.date(2020, 8, 24), 128.697495, 128.785004, 123.9375, 125.857498), (datetime.date(2020, 8, 25), 124.697502, 125.18, 123.052498, 124.824997), (datetime.date(2020, 8, 26), 126.18, 126.9925, 125.082497, 126.522499), (datetime.date(2020, 8, 27), 127.142502, 127.485001, 123.832497, 125.010002), (datetime.date(2020, 8, 28), 126.012497, 126.442497, 124.577499, 124.807503), (datetime.date(2020, 8, 31), 127.580002, 131.0, 126.0, 129.039993), (datetime.date(2020, 9, 1), 132.759995, 134.800003, 130.529999, 134.179993), (datetime.date(2020, 9, 2), 137.589996, 137.979996, 127.0, 131.399994), (datetime.date(2020, 9, 3), 126.910004, 128.839996, 120.5, 120.879997), (datetime.date(2020, 9, 4), 120.07, 123.699997, 110.889999, 120.959999), (datetime.date(2020, 9, 8), 113.949997, 118.989998, 112.68, 112.82), (datetime.date(2020, 9, 9), 117.260002, 119.139999, 115.260002, 117.32), (datetime.date(2020, 9, 10), 120.360001, 120.5, 112.5, 113.489998), (datetime.date(2020, 9, 11), 114.57, 115.230003, 110.0, 112.0), (datetime.date(2020, 9, 14), 114.720001, 115.93, 112.800003, 115.360001), (datetime.date(2020, 9, 15), 118.330002, 118.830002, 113.610001, 115.540001), (datetime.date(2020, 9, 16), 115.230003, 116.0, 112.040001, 112.129997), (datetime.date(2020, 9, 17), 109.720001, 112.199997, 108.709999, 110.339996), (datetime.date(2020, 9, 18), 110.400002, 110.879997, 106.089996, 106.839996), (datetime.date(2020, 9, 21), 104.540001, 110.190002, 103.099998, 110.080002), (datetime.date(2020, 9, 22), 112.68, 112.860001, 109.160004, 111.809998), (datetime.date(2020, 9, 23), 111.620003, 112.110001, 106.769997, 107.120003), (datetime.date(2020, 9, 24), 105.169998, 110.25, 105.0, 108.220001), (datetime.date(2020, 9, 25), 108.43, 112.440002, 107.669998, 112.279999), (datetime.date(2020, 9, 28), 115.010002, 115.32, 112.779999, 114.959999), (datetime.date(2020, 9, 29), 114.550003, 115.309998, 113.57, 114.089996), (datetime.date(2020, 9, 30), 113.790001, 117.260002, 113.620003, 115.809998), (datetime.date(2020, 10, 1), 117.639999, 117.720001, 115.830002, 116.790001), (datetime.date(2020, 10, 2), 112.889999, 115.370003, 112.220001, 113.019997), (datetime.date(2020, 10, 5), 113.910004, 116.650002, 113.550003, 116.5), (datetime.date(2020, 10, 6), 115.699997, 116.120003, 112.25, 113.160004), (datetime.date(2020, 10, 7), 114.620003, 115.550003, 114.129997, 115.080002), (datetime.date(2020, 10, 8), 116.25, 116.400002, 114.589996, 114.970001), (datetime.date(2020, 10, 9), 115.279999, 117.0, 114.919998, 116.970001), (datetime.date(2020, 10, 12), 120.059998, 125.18, 119.279999, 124.400002), (datetime.date(2020, 10, 13), 125.269997, 125.389999, 119.650002, 121.099998), (datetime.date(2020, 10, 14), 121.0, 123.029999, 119.620003, 121.190002), (datetime.date(2020, 10, 15), 118.720001, 121.199997, 118.150002, 120.709999), (datetime.date(2020, 10, 16), 121.279999, 121.550003, 118.809998, 119.019997), (datetime.date(2020, 10, 19), 119.959999, 120.419998, 115.660004, 115.980003), (datetime.date(2020, 10, 20), 116.199997, 118.980003, 115.629997, 117.510002), (datetime.date(2020, 10, 21), 116.669998, 118.709999, 116.449997, 116.870003), (datetime.date(2020, 10, 22), 117.449997, 118.040001, 114.589996, 115.75), (datetime.date(2020, 10, 23), 116.389999, 116.550003, 114.279999, 115.040001), (datetime.date(2020, 10, 26), 114.010002, 116.550003, 112.879997, 115.050003), (datetime.date(2020, 10, 27), 115.489998, 117.279999, 114.540001, 116.599998), (datetime.date(2020, 10, 28), 115.050003, 115.43, 111.099998, 111.199997), (datetime.date(2020, 10, 29), 112.370003, 116.93, 112.199997, 115.32), (datetime.date(2020, 10, 30), 111.059998, 111.989998, 107.720001, 108.860001), (datetime.date(2020, 11, 2), 109.110001, 110.68, 107.32, 108.769997), (datetime.date(2020, 11, 3), 109.660004, 111.489998, 108.730003, 110.440002), (datetime.date(2020, 11, 4), 114.139999, 115.589996, 112.349998, 114.949997), (datetime.date(2020, 11, 5), 117.949997, 119.620003, 116.870003, 119.029999), (datetime.date(2020, 11, 6), 118.32, 119.199997, 116.129997, 118.690002), (datetime.date(2020, 11, 9), 120.5, 121.989998, 116.050003, 116.32), (datetime.date(2020, 11, 10), 115.550003, 117.589996, 114.129997, 115.970001), (datetime.date(2020, 11, 11), 117.190002, 119.629997, 116.440002, 119.489998), (datetime.date(2020, 11, 12), 119.620003, 120.529999, 118.57, 119.209999), (datetime.date(2020, 11, 13), 119.440002, 119.669998, 117.870003, 119.260002), (datetime.date(2020, 11, 16), 118.919998, 120.989998, 118.150002, 120.300003), (datetime.date(2020, 11, 17), 119.550003, 120.669998, 118.959999, 119.389999), (datetime.date(2020, 11, 18), 118.610001, 119.82, 118.0, 118.029999), (datetime.date(2020, 11, 19), 117.589996, 119.059998, 116.809998, 118.639999), (datetime.date(2020, 11, 20), 118.639999, 118.769997, 117.290001, 117.339996), (datetime.date(2020, 11, 23), 117.18, 117.620003, 113.75, 113.849998), (datetime.date(2020, 11, 24), 113.910004, 115.849998, 112.589996, 115.169998), (datetime.date(2020, 11, 25), 115.550003, 116.75, 115.169998, 116.029999), (datetime.date(2020, 11, 27), 116.57, 117.489998, 116.220001, 116.589996), (datetime.date(2020, 11, 30), 116.970001, 120.970001, 116.809998, 119.050003), (datetime.date(2020, 12, 1), 121.010002, 123.470001, 120.010002, 122.720001), (datetime.date(2020, 12, 2), 122.019997, 123.370003, 120.889999, 123.080002), (datetime.date(2020, 12, 3), 123.519997, 123.779999, 122.209999, 122.940002), (datetime.date(2020, 12, 4), 122.599998, 122.860001, 121.519997, 122.25), (datetime.date(2020, 12, 7), 122.309998, 124.57, 122.25, 123.75), (datetime.date(2020, 12, 8), 124.370003, 124.980003, 123.089996, 124.379997), (datetime.date(2020, 12, 9), 124.529999, 125.949997, 121.0, 121.779999), (datetime.date(2020, 12, 10), 120.5, 123.870003, 120.150002, 123.239998), (datetime.date(2020, 12, 11), 122.43, 122.760002, 120.550003, 122.410004), (datetime.date(2020, 12, 14), 122.599998, 123.349998, 121.540001, 121.779999), (datetime.date(2020, 12, 15), 124.339996, 127.900002, 124.129997, 127.879997), (datetime.date(2020, 12, 16), 127.410004, 128.369995, 126.559998, 127.809998), (datetime.date(2020, 12, 17), 128.899994, 129.580002, 128.039993, 128.699997), (datetime.date(2020, 12, 18), 128.960007, 129.100006, 126.120003, 126.660004), (datetime.date(2020, 12, 21), 125.019997, 128.309998, 123.449997, 128.229996), (datetime.date(2020, 12, 22), 131.610001, 134.410004, 129.649994, 131.880005), (datetime.date(2020, 12, 23), 132.160004, 132.429993, 130.779999, 130.960007), (datetime.date(2020, 12, 24), 131.320007, 133.460007, 131.100006, 131.970001), (datetime.date(2020, 12, 28), 133.990005, 137.339996, 133.509995, 136.690002), (datetime.date(2020, 12, 29), 138.050003, 138.789993, 134.339996, 134.869995), (datetime.date(2020, 12, 30), 135.580002, 135.990005, 133.399994, 133.720001), (datetime.date(2020, 12, 31), 134.080002, 134.740005, 131.720001, 132.690002), (datetime.date(2021, 1, 4), 133.520004, 133.610001, 126.760002, 129.410004), (datetime.date(2021, 1, 5), 128.889999, 131.740005, 128.429993, 131.009995), (datetime.date(2021, 1, 6), 127.720001, 131.050003, 126.379997, 126.599998), (datetime.date(2021, 1, 7), 128.360001, 131.630005, 127.860001, 130.919998), (datetime.date(2021, 1, 8), 132.429993, 132.630005, 130.229996, 132.050003), (datetime.date(2021, 1, 11), 129.190002, 130.169998, 128.5, 128.979996), (datetime.date(2021, 1, 12), 128.5, 129.690002, 126.860001, 128.800003), (datetime.date(2021, 1, 13), 128.759995, 131.449997, 128.490005, 130.889999), (datetime.date(2021, 1, 14), 130.800003, 131.0, 128.759995, 128.910004), (datetime.date(2021, 1, 15), 128.779999, 130.220001, 127.0, 127.139999), (datetime.date(2021, 1, 19), 127.779999, 128.710007, 126.940002, 127.830002), (datetime.date(2021, 1, 20), 128.660004, 132.490005, 128.550003, 132.029999), (datetime.date(2021, 1, 21), 133.800003, 139.669998, 133.589996, 136.869995), (datetime.date(2021, 1, 22), 136.279999, 139.850006, 135.020004, 139.070007), (datetime.date(2021, 1, 25), 143.070007, 145.089996, 136.539993, 142.919998), (datetime.date(2021, 1, 26), 143.600006, 144.300003, 141.369995, 143.160004), (datetime.date(2021, 1, 27), 143.429993, 144.300003, 140.410004, 142.059998), (datetime.date(2021, 1, 28), 139.520004, 141.990005, 136.699997, 137.089996), (datetime.date(2021, 1, 29), 135.830002, 136.740005, 130.210007, 131.960007), (datetime.date(2021, 2, 1), 133.75, 135.380005, 130.929993, 134.139999), (datetime.date(2021, 2, 2), 135.729996, 136.309998, 134.610001, 134.990005), (datetime.date(2021, 2, 3), 135.759995, 135.770004, 133.610001, 133.940002), (datetime.date(2021, 2, 4), 136.300003, 137.399994, 134.589996, 137.389999), (datetime.date(2021, 2, 5), 137.350006, 137.419998, 135.860001, 136.759995), (datetime.date(2021, 2, 8), 136.029999, 136.960007, 134.919998, 136.910004), (datetime.date(2021, 2, 9), 136.619995, 137.880005, 135.850006, 136.009995), (datetime.date(2021, 2, 10), 136.479996, 136.990005, 134.399994, 135.389999), (datetime.date(2021, 2, 11), 135.899994, 136.389999, 133.770004, 135.130005), (datetime.date(2021, 2, 12), 134.350006, 135.529999, 133.690002, 135.369995), (datetime.date(2021, 2, 16), 135.490005, 136.009995, 132.789993, 133.190002), (datetime.date(2021, 2, 17), 131.25, 132.220001, 129.470001, 130.839996), (datetime.date(2021, 2, 18), 129.199997, 130.0, 127.410004, 129.710007), (datetime.date(2021, 2, 19), 130.240005, 130.710007, 128.800003, 129.869995), (datetime.date(2021, 2, 22), 128.009995, 129.720001, 125.599998, 126.0), (datetime.date(2021, 2, 23), 123.760002, 126.709999, 118.389999, 125.860001), (datetime.date(2021, 2, 24), 124.940002, 125.559998, 122.230003, 125.349998), (datetime.date(2021, 2, 25), 124.68, 126.459999, 120.540001, 120.989998), (datetime.date(2021, 2, 26), 122.589996, 124.849998, 121.199997, 121.260002), (datetime.date(2021, 3, 1), 123.75, 127.93, 122.790001, 127.790001), (datetime.date(2021, 3, 2), 128.410004, 128.720001, 125.010002, 125.120003), (datetime.date(2021, 3, 3), 124.809998, 125.709999, 121.839996, 122.059998), (datetime.date(2021, 3, 4), 121.75, 123.599998, 118.620003, 120.129997), (datetime.date(2021, 3, 5), 120.980003, 121.940002, 117.57, 121.419998), (datetime.date(2021, 3, 8), 120.93, 121.0, 116.209999, 116.360001), (datetime.date(2021, 3, 9), 119.029999, 122.059998, 118.790001, 121.089996), (datetime.date(2021, 3, 10), 121.690002, 122.169998, 119.449997, 119.980003), (datetime.date(2021, 3, 11), 122.540001, 123.209999, 121.260002, 121.959999), (datetime.date(2021, 3, 12), 120.400002, 121.169998, 119.160004, 121.029999), (datetime.date(2021, 3, 15), 121.410004, 124.0, 120.419998, 123.989998), (datetime.date(2021, 3, 16), 125.699997, 127.220001, 124.720001, 125.57), (datetime.date(2021, 3, 17), 124.050003, 125.860001, 122.339996, 124.760002), (datetime.date(2021, 3, 18), 122.879997, 123.18, 120.32, 120.529999), (datetime.date(2021, 3, 19), 119.900002, 121.43, 119.68, 119.989998), (datetime.date(2021, 3, 22), 120.330002, 123.870003, 120.260002, 123.389999), (datetime.date(2021, 3, 23), 123.330002, 124.239998, 122.139999, 122.540001), (datetime.date(2021, 3, 24), 122.82, 122.900002, 120.07, 120.089996), (datetime.date(2021, 3, 25), 119.540001, 121.660004, 119.0, 120.589996), (datetime.date(2021, 3, 26), 120.349998, 121.480003, 118.919998, 121.209999), (datetime.date(2021, 3, 29), 121.650002, 122.580002, 120.730003, 121.389999), (datetime.date(2021, 3, 30), 120.110001, 120.400002, 118.860001, 119.900002), (datetime.date(2021, 3, 31), 121.650002, 123.519997, 121.150002, 122.150002), (datetime.date(2021, 4, 1), 123.660004, 124.18, 122.489998, 123.0), (datetime.date(2021, 4, 5), 123.870003, 126.160004, 123.07, 125.900002), (datetime.date(2021, 4, 6), 126.5, 127.129997, 125.650002, 126.209999), (datetime.date(2021, 4, 7), 125.830002, 127.919998, 125.139999, 127.900002), (datetime.date(2021, 4, 8), 128.949997, 130.389999, 128.520004, 130.360001), (datetime.date(2021, 4, 9), 129.800003, 133.039993, 129.470001, 133.0), (datetime.date(2021, 4, 12), 132.520004, 132.850006, 130.630005, 131.240005), (datetime.date(2021, 4, 13), 132.440002, 134.660004, 131.929993, 134.429993), (datetime.date(2021, 4, 14), 134.940002, 135.0, 131.660004, 132.029999), (datetime.date(2021, 4, 15), 133.820007, 135.0, 133.639999, 134.5), (datetime.date(2021, 4, 16), 134.300003, 134.669998, 133.279999, 134.160004), (datetime.date(2021, 4, 19), 133.509995, 135.470001, 133.339996, 134.839996), (datetime.date(2021, 4, 20), 135.020004, 135.529999, 131.809998, 133.110001), (datetime.date(2021, 4, 21), 132.360001, 133.75, 131.300003, 133.5), (datetime.date(2021, 4, 22), 133.039993, 134.149994, 131.410004, 131.940002), (datetime.date(2021, 4, 23), 132.160004, 135.119995, 132.160004, 134.320007), (datetime.date(2021, 4, 26), 134.830002, 135.059998, 133.559998, 134.720001), (datetime.date(2021, 4, 27), 135.009995, 135.410004, 134.110001, 134.389999), (datetime.date(2021, 4, 28), 134.309998, 135.020004, 133.080002, 133.580002), (datetime.date(2021, 4, 29), 136.470001, 137.070007, 132.449997, 133.479996), (datetime.date(2021, 4, 30), 131.779999, 133.559998, 131.070007, 131.460007), (datetime.date(2021, 5, 3), 132.039993, 134.070007, 131.830002, 132.539993), (datetime.date(2021, 5, 4), 131.190002, 131.490005, 126.699997, 127.849998), (datetime.date(2021, 5, 5), 129.199997, 130.449997, 127.970001, 128.100006), (datetime.date(2021, 5, 6), 127.889999, 129.75, 127.129997, 129.740005), (datetime.date(2021, 5, 7), 130.850006, 131.259995, 129.479996, 130.210007), (datetime.date(2021, 5, 10), 129.410004, 129.539993, 126.809998, 126.849998), (datetime.date(2021, 5, 11), 123.5, 126.269997, 122.769997, 125.910004), (datetime.date(2021, 5, 12), 123.400002, 124.639999, 122.25, 122.769997), (datetime.date(2021, 5, 13), 124.580002, 126.150002, 124.260002, 124.970001), (datetime.date(2021, 5, 14), 126.25, 127.889999, 125.849998, 127.449997), (datetime.date(2021, 5, 17), 126.82, 126.93, 125.169998, 126.269997), (datetime.date(2021, 5, 18), 126.559998, 126.989998, 124.779999, 124.849998), (datetime.date(2021, 5, 19), 123.160004, 124.919998, 122.860001, 124.690002), (datetime.date(2021, 5, 20), 125.230003, 127.720001, 125.099998, 127.309998), (datetime.date(2021, 5, 21), 127.82, 128.0, 125.209999, 125.43), (datetime.date(2021, 5, 24), 126.010002, 127.940002, 125.940002, 127.099998), (datetime.date(2021, 5, 25), 127.82, 128.320007, 126.32, 126.900002), (datetime.date(2021, 5, 26), 126.959999, 127.389999, 126.419998, 126.849998), (datetime.date(2021, 5, 27), 126.440002, 127.639999, 125.080002, 125.279999), (datetime.date(2021, 5, 28), 125.57, 125.800003, 124.550003, 124.610001), (datetime.date(2021, 6, 1), 125.080002, 125.349998, 123.940002, 124.279999), (datetime.date(2021, 6, 2), 124.279999, 125.239998, 124.050003, 125.059998), (datetime.date(2021, 6, 3), 124.68, 124.849998, 123.129997, 123.540001), (datetime.date(2021, 6, 4), 124.07, 126.160004, 123.849998, 125.889999), (datetime.date(2021, 6, 7), 126.169998, 126.32, 124.830002, 125.900002), (datetime.date(2021, 6, 8), 126.599998, 128.460007, 126.209999, 126.739998), (datetime.date(2021, 6, 9), 127.209999, 127.75, 126.519997, 127.129997), (datetime.date(2021, 6, 10), 127.019997, 128.190002, 125.940002, 126.110001), (datetime.date(2021, 6, 11), 126.529999, 127.440002, 126.099998, 127.349998), (datetime.date(2021, 6, 14), 127.82, 130.539993, 127.07, 130.479996), (datetime.date(2021, 6, 15), 129.940002, 130.600006, 129.389999, 129.639999), (datetime.date(2021, 6, 16), 130.369995, 130.889999, 128.460007, 130.149994), (datetime.date(2021, 6, 17), 129.800003, 132.550003, 129.649994, 131.789993), (datetime.date(2021, 6, 18), 130.710007, 131.509995, 130.240005, 130.460007), (datetime.date(2021, 6, 21), 130.300003, 132.410004, 129.210007, 132.300003), (datetime.date(2021, 6, 22), 132.130005, 134.080002, 131.619995, 133.979996), (datetime.date(2021, 6, 23), 133.770004, 134.320007, 133.229996, 133.699997), (datetime.date(2021, 6, 24), 134.449997, 134.639999, 132.929993, 133.410004), (datetime.date(2021, 6, 25), 133.460007, 133.889999, 132.809998, 133.110001), (datetime.date(2021, 6, 28), 133.410004, 135.25, 133.350006, 134.779999), (datetime.date(2021, 6, 29), 134.800003, 136.490005, 134.350006, 136.330002), (datetime.date(2021, 6, 30), 136.169998, 137.410004, 135.869995, 136.960007), (datetime.date(2021, 7, 1), 136.600006, 137.330002, 135.759995, 137.270004), (datetime.date(2021, 7, 2), 137.899994, 140.0, 137.75, 139.960007), (datetime.date(2021, 7, 6), 140.070007, 143.149994, 140.070007, 142.020004), (datetime.date(2021, 7, 7), 143.539993, 144.889999, 142.660004, 144.570007), (datetime.date(2021, 7, 8), 141.580002, 144.059998, 140.669998, 143.240005), (datetime.date(2021, 7, 9), 142.75, 145.649994, 142.649994, 145.110001), (datetime.date(2021, 7, 12), 146.210007, 146.320007, 144.0, 144.5), (datetime.date(2021, 7, 13), 144.029999, 147.460007, 143.630005, 145.639999), (datetime.date(2021, 7, 14), 148.100006, 149.570007, 147.679993, 149.149994), (datetime.date(2021, 7, 15), 149.240005, 150.0, 147.089996, 148.479996), (datetime.date(2021, 7, 16), 148.460007, 149.759995, 145.880005, 146.389999), (datetime.date(2021, 7, 19), 143.75, 144.070007, 141.669998, 142.449997), (datetime.date(2021, 7, 20), 143.460007, 147.100006, 142.960007, 146.149994), (datetime.date(2021, 7, 21), 145.529999, 146.130005, 144.630005, 145.399994), (datetime.date(2021, 7, 22), 145.940002, 148.199997, 145.809998, 146.800003), (datetime.date(2021, 7, 23), 147.550003, 148.720001, 146.919998, 148.559998), (datetime.date(2021, 7, 26), 148.270004, 149.830002, 147.699997, 148.990005), (datetime.date(2021, 7, 27), 149.119995, 149.210007, 145.550003, 146.770004), (datetime.date(2021, 7, 28), 144.809998, 146.970001, 142.539993, 144.979996), (datetime.date(2021, 7, 29), 144.690002, 146.550003, 144.580002, 145.639999), (datetime.date(2021, 7, 30), 144.380005, 146.330002, 144.110001, 145.860001), (datetime.date(2021, 8, 2), 146.360001, 146.949997, 145.25, 145.520004), (datetime.date(2021, 8, 3), 145.809998, 148.039993, 145.179993, 147.360001), (datetime.date(2021, 8, 4), 147.270004, 147.789993, 146.279999, 146.949997), (datetime.date(2021, 8, 5), 146.979996, 147.839996, 146.169998, 147.059998), (datetime.date(2021, 8, 6), 146.350006, 147.110001, 145.630005, 146.139999), (datetime.date(2021, 8, 9), 146.199997, 146.699997, 145.520004, 146.089996), (datetime.date(2021, 8, 10), 146.440002, 147.710007, 145.300003, 145.600006), (datetime.date(2021, 8, 11), 146.050003, 146.720001, 145.529999, 145.860001), (datetime.date(2021, 8, 12), 146.190002, 149.050003, 145.839996, 148.889999), (datetime.date(2021, 8, 13), 148.970001, 149.440002, 148.270004, 149.100006), (datetime.date(2021, 8, 16), 148.539993, 151.190002, 146.470001, 151.119995), (datetime.date(2021, 8, 17), 150.229996, 151.679993, 149.089996, 150.190002), (datetime.date(2021, 8, 18), 149.800003, 150.720001, 146.149994, 146.360001), (datetime.date(2021, 8, 19), 145.029999, 148.0, 144.5, 146.699997), (datetime.date(2021, 8, 20), 147.440002, 148.5, 146.779999, 148.190002), (datetime.date(2021, 8, 23), 148.309998, 150.190002, 147.889999, 149.710007), (datetime.date(2021, 8, 24), 149.449997, 150.860001, 149.149994, 149.619995), (datetime.date(2021, 8, 25), 149.809998, 150.320007, 147.800003, 148.360001), (datetime.date(2021, 8, 26), 148.350006, 149.119995, 147.509995, 147.539993), (datetime.date(2021, 8, 27), 147.479996, 148.75, 146.830002, 148.600006), (datetime.date(2021, 8, 30), 149.0, 153.490005, 148.610001, 153.119995), (datetime.date(2021, 8, 31), 152.660004, 152.800003, 151.289993, 151.830002), (datetime.date(2021, 9, 1), 152.830002, 154.979996, 152.339996, 152.509995), (datetime.date(2021, 9, 2), 153.869995, 154.720001, 152.399994, 153.649994), (datetime.date(2021, 9, 3), 153.759995, 154.630005, 153.089996, 154.300003), (datetime.date(2021, 9, 7), 154.970001, 157.259995, 154.389999, 156.690002), (datetime.date(2021, 9, 8), 156.979996, 157.039993, 153.979996, 155.110001), (datetime.date(2021, 9, 9), 155.490005, 156.110001, 153.949997, 154.070007), (datetime.date(2021, 9, 10), 155.0, 155.479996, 148.699997, 148.970001), (datetime.date(2021, 9, 13), 150.630005, 151.419998, 148.75, 149.550003), (datetime.date(2021, 9, 14), 150.350006, 151.070007, 146.910004, 148.119995), (datetime.date(2021, 9, 15), 148.559998, 149.440002, 146.369995, 149.029999), (datetime.date(2021, 9, 16), 148.440002, 148.970001, 147.220001, 148.789993), (datetime.date(2021, 9, 17), 148.820007, 148.820007, 145.759995, 146.059998), (datetime.date(2021, 9, 20), 143.800003, 144.839996, 141.270004, 142.940002), (datetime.date(2021, 9, 21), 143.929993, 144.600006, 142.779999, 143.429993), (datetime.date(2021, 9, 22), 144.449997, 146.429993, 143.699997, 145.850006), (datetime.date(2021, 9, 23), 146.649994, 147.080002, 145.639999, 146.830002), (datetime.date(2021, 9, 24), 145.660004, 147.470001, 145.559998, 146.919998), (datetime.date(2021, 9, 27), 145.470001, 145.960007, 143.820007, 145.369995), (datetime.date(2021, 9, 28), 143.25, 144.75, 141.690002, 141.910004), (datetime.date(2021, 9, 29), 142.470001, 144.449997, 142.029999, 142.830002), (datetime.date(2021, 9, 30), 143.660004, 144.380005, 141.279999, 141.5), (datetime.date(2021, 10, 1), 141.899994, 142.919998, 139.110001, 142.649994), (datetime.date(2021, 10, 4), 141.759995, 142.210007, 138.270004, 139.139999), (datetime.date(2021, 10, 5), 139.490005, 142.240005, 139.360001, 141.110001), (datetime.date(2021, 10, 6), 139.470001, 142.149994, 138.369995, 142.0), (datetime.date(2021, 10, 7), 143.059998, 144.220001, 142.720001, 143.289993), (datetime.date(2021, 10, 8), 144.029999, 144.179993, 142.559998, 142.899994), (datetime.date(2021, 10, 11), 142.270004, 144.809998, 141.809998, 142.809998), (datetime.date(2021, 10, 12), 143.229996, 143.25, 141.039993, 141.509995), (datetime.date(2021, 10, 13), 141.240005, 141.399994, 139.199997, 140.910004), (datetime.date(2021, 10, 14), 142.110001, 143.880005, 141.509995, 143.759995), (datetime.date(2021, 10, 15), 143.770004, 144.899994, 143.509995, 144.839996), (datetime.date(2021, 10, 18), 143.449997, 146.839996, 143.160004, 146.550003), (datetime.date(2021, 10, 19), 147.009995, 149.169998, 146.550003, 148.759995), (datetime.date(2021, 10, 20), 148.699997, 149.75, 148.119995, 149.259995), (datetime.date(2021, 10, 21), 148.809998, 149.639999, 147.869995, 149.479996), (datetime.date(2021, 10, 22), 149.690002, 150.179993, 148.639999, 148.690002), (datetime.date(2021, 10, 25), 148.679993, 149.369995, 147.619995, 148.639999), (datetime.date(2021, 10, 26), 149.330002, 150.839996, 149.009995, 149.320007), (datetime.date(2021, 10, 27), 149.360001, 149.729996, 148.490005, 148.850006), (datetime.date(2021, 10, 28), 149.820007, 153.169998, 149.720001, 152.570007), (datetime.date(2021, 10, 29), 147.220001, 149.940002, 146.410004, 149.800003), (datetime.date(2021, 11, 1), 148.990005, 149.699997, 147.800003, 148.960007), (datetime.date(2021, 11, 2), 148.660004, 151.570007, 148.649994, 150.020004), (datetime.date(2021, 11, 3), 150.389999, 151.970001, 149.820007, 151.490005), (datetime.date(2021, 11, 4), 151.580002, 152.429993, 150.639999, 150.960007), (datetime.date(2021, 11, 5), 151.889999, 152.199997, 150.059998, 151.279999), (datetime.date(2021, 11, 8), 151.410004, 151.570007, 150.160004, 150.440002), (datetime.date(2021, 11, 9), 150.199997, 151.429993, 150.059998, 150.809998), (datetime.date(2021, 11, 10), 150.020004, 150.130005, 147.850006, 147.919998), (datetime.date(2021, 11, 11), 148.960007, 149.429993, 147.679993, 147.869995), (datetime.date(2021, 11, 12), 148.429993, 150.399994, 147.479996, 149.990005), (datetime.date(2021, 11, 15), 150.369995, 151.880005, 149.429993, 150.0), (datetime.date(2021, 11, 16), 149.940002, 151.490005, 149.339996, 151.0), (datetime.date(2021, 11, 17), 151.0, 155.0, 150.990005, 153.490005), (datetime.date(2021, 11, 18), 153.710007, 158.669998, 153.050003, 157.869995), (datetime.date(2021, 11, 19), 157.649994, 161.020004, 156.529999, 160.550003), (datetime.date(2021, 11, 22), 161.679993, 165.699997, 161.0, 161.020004), (datetime.date(2021, 11, 23), 161.119995, 161.800003, 159.059998, 161.410004), (datetime.date(2021, 11, 24), 160.75, 162.139999, 159.639999, 161.940002), (datetime.date(2021, 11, 26), 159.570007, 160.449997, 156.360001, 156.809998), (datetime.date(2021, 11, 29), 159.369995, 161.190002, 158.789993, 160.240005), (datetime.date(2021, 11, 30), 159.990005, 165.520004, 159.919998, 165.300003), (datetime.date(2021, 12, 1), 167.479996, 170.300003, 164.529999, 164.770004), (datetime.date(2021, 12, 2), 158.740005, 164.199997, 157.800003, 163.759995), (datetime.date(2021, 12, 3), 164.020004, 164.960007, 159.720001, 161.839996), (datetime.date(2021, 12, 6), 164.289993, 167.880005, 164.279999, 165.320007), (datetime.date(2021, 12, 7), 169.080002, 171.580002, 168.339996, 171.179993), (datetime.date(2021, 12, 8), 172.130005, 175.960007, 170.699997, 175.080002), (datetime.date(2021, 12, 9), 174.910004, 176.75, 173.919998, 174.559998), (datetime.date(2021, 12, 10), 175.210007, 179.630005, 174.690002, 179.449997), (datetime.date(2021, 12, 13), 181.119995, 182.130005, 175.529999, 175.740005), (datetime.date(2021, 12, 14), 175.25, 177.740005, 172.210007, 174.330002), (datetime.date(2021, 12, 15), 175.110001, 179.5, 172.309998, 179.300003), (datetime.date(2021, 12, 16), 179.279999, 181.139999, 170.75, 172.259995), (datetime.date(2021, 12, 17), 169.929993, 173.470001, 169.690002, 171.139999), (datetime.date(2021, 12, 20), 168.279999, 170.580002, 167.460007, 169.75), (datetime.date(2021, 12, 21), 171.559998, 173.199997, 169.119995, 172.990005), (datetime.date(2021, 12, 22), 173.039993, 175.860001, 172.149994, 175.639999), (datetime.date(2021, 12, 23), 175.850006, 176.850006, 175.270004, 176.279999), (datetime.date(2021, 12, 27), 177.089996, 180.419998, 177.070007, 180.330002), (datetime.date(2021, 12, 28), 180.160004, 181.330002, 178.529999, 179.289993), (datetime.date(2021, 12, 29), 179.330002, 180.630005, 178.139999, 179.380005), (datetime.date(2021, 12, 30), 179.470001, 180.570007, 178.089996, 178.199997), (datetime.date(2021, 12, 31), 178.089996, 179.229996, 177.259995, 177.570007), (datetime.date(2022, 1, 3), 177.830002, 182.880005, 177.710007, 182.009995), (datetime.date(2022, 1, 4), 182.630005, 182.940002, 179.119995, 179.699997), (datetime.date(2022, 1, 5), 179.610001, 180.169998, 174.639999, 174.919998), (datetime.date(2022, 1, 6), 172.699997, 175.300003, 171.639999, 172.0), (datetime.date(2022, 1, 7), 172.889999, 174.139999, 171.029999, 172.169998), (datetime.date(2022, 1, 10), 169.080002, 172.5, 168.169998, 172.190002), (datetime.date(2022, 1, 11), 172.320007, 175.179993, 170.820007, 175.080002), (datetime.date(2022, 1, 12), 176.119995, 177.179993, 174.820007, 175.529999), (datetime.date(2022, 1, 13), 175.779999, 176.619995, 171.789993, 172.190002), (datetime.date(2022, 1, 14), 171.339996, 173.779999, 171.089996, 173.070007), (datetime.date(2022, 1, 18), 171.509995, 172.539993, 169.410004, 169.800003), (datetime.date(2022, 1, 19), 170.0, 171.080002, 165.940002, 166.229996), (datetime.date(2022, 1, 20), 166.979996, 169.679993, 164.179993, 164.509995), (datetime.date(2022, 1, 21), 164.419998, 166.330002, 162.300003, 162.410004), (datetime.date(2022, 1, 24), 160.020004, 162.300003, 154.699997, 161.619995), (datetime.date(2022, 1, 25), 158.979996, 162.759995, 157.020004, 159.779999), (datetime.date(2022, 1, 26), 163.5, 164.389999, 157.820007, 159.690002), (datetime.date(2022, 1, 27), 162.449997, 163.839996, 158.279999, 159.220001), (datetime.date(2022, 1, 28), 165.710007, 170.350006, 162.800003, 170.330002), (datetime.date(2022, 1, 31), 170.160004, 175.0, 169.509995, 174.779999), (datetime.date(2022, 2, 1), 174.009995, 174.839996, 172.309998, 174.610001), (datetime.date(2022, 2, 2), 174.75, 175.880005, 173.330002, 175.839996), (datetime.date(2022, 2, 3), 174.479996, 176.240005, 172.119995, 172.899994), (datetime.date(2022, 2, 4), 171.679993, 174.100006, 170.679993, 172.389999), (datetime.date(2022, 2, 7), 172.860001, 173.949997, 170.949997, 171.660004), (datetime.date(2022, 2, 8), 171.729996, 175.350006, 171.429993, 174.830002), (datetime.date(2022, 2, 9), 176.050003, 176.649994, 174.899994, 176.279999), (datetime.date(2022, 2, 10), 174.139999, 175.479996, 171.550003, 172.119995), (datetime.date(2022, 2, 11), 172.330002, 173.080002, 168.039993, 168.639999), (datetime.date(2022, 2, 14), 167.369995, 169.580002, 166.559998, 168.880005), (datetime.date(2022, 2, 15), 170.970001, 172.949997, 170.25, 172.789993), (datetime.date(2022, 2, 16), 171.850006, 173.339996, 170.050003, 172.550003), (datetime.date(2022, 2, 17), 171.029999, 171.910004, 168.470001, 168.880005), (datetime.date(2022, 2, 18), 169.820007, 170.539993, 166.190002, 167.300003), (datetime.date(2022, 2, 22), 164.979996, 166.690002, 162.149994, 164.320007), (datetime.date(2022, 2, 23), 165.539993, 166.149994, 159.75, 160.070007), (datetime.date(2022, 2, 24), 152.580002, 162.850006, 152.0, 162.740005), (datetime.date(2022, 2, 25), 163.839996, 165.119995, 160.869995, 164.850006), (datetime.date(2022, 2, 28), 163.059998, 165.419998, 162.429993, 165.119995), (datetime.date(2022, 3, 1), 164.699997, 166.600006, 161.970001, 163.199997), (datetime.date(2022, 3, 2), 164.389999, 167.360001, 162.949997, 166.559998), (datetime.date(2022, 3, 3), 168.470001, 168.910004, 165.550003, 166.229996), (datetime.date(2022, 3, 4), 164.490005, 165.550003, 162.100006, 163.169998), (datetime.date(2022, 3, 7), 163.360001, 165.020004, 159.039993, 159.300003), (datetime.date(2022, 3, 8), 158.820007, 162.880005, 155.800003, 157.440002), (datetime.date(2022, 3, 9), 161.479996, 163.410004, 159.410004, 162.949997), (datetime.date(2022, 3, 10), 160.199997, 160.389999, 155.979996, 158.520004), (datetime.date(2022, 3, 11), 158.929993, 159.279999, 154.5, 154.729996), (datetime.date(2022, 3, 14), 151.449997, 154.119995, 150.100006, 150.619995), (datetime.date(2022, 3, 15), 150.899994, 155.570007, 150.380005, 155.089996), (datetime.date(2022, 3, 16), 157.050003, 160.0, 154.460007, 159.589996), (datetime.date(2022, 3, 17), 158.610001, 161.0, 157.630005, 160.619995), (datetime.date(2022, 3, 18), 160.509995, 164.479996, 159.759995, 163.979996), (datetime.date(2022, 3, 21), 163.509995, 166.350006, 163.009995, 165.380005), (datetime.date(2022, 3, 22), 165.509995, 169.419998, 164.910004, 168.820007), (datetime.date(2022, 3, 23), 167.990005, 172.639999, 167.649994, 170.210007), (datetime.date(2022, 3, 24), 171.059998, 174.139999, 170.210007, 174.070007), (datetime.date(2022, 3, 25), 173.880005, 175.279999, 172.75, 174.720001), (datetime.date(2022, 3, 28), 172.169998, 175.729996, 172.0, 175.600006), (datetime.date(2022, 3, 29), 176.690002, 179.009995, 176.339996, 178.960007), (datetime.date(2022, 3, 30), 178.550003, 179.610001, 176.699997, 177.770004), (datetime.date(2022, 3, 31), 177.839996, 178.029999, 174.399994, 174.610001), (datetime.date(2022, 4, 1), 174.029999, 174.880005, 171.940002, 174.309998), (datetime.date(2022, 4, 4), 174.570007, 178.490005, 174.440002, 178.440002), (datetime.date(2022, 4, 5), 177.5, 178.300003, 174.419998, 175.059998), (datetime.date(2022, 4, 6), 172.360001, 173.630005, 170.130005, 171.830002), (datetime.date(2022, 4, 7), 171.160004, 173.360001, 169.850006, 172.139999), (datetime.date(2022, 4, 8), 171.779999, 171.779999, 169.199997, 170.089996), (datetime.date(2022, 4, 11), 168.710007, 169.029999, 165.5, 165.75), (datetime.date(2022, 4, 12), 168.020004, 169.869995, 166.639999, 167.660004), (datetime.date(2022, 4, 13), 167.389999, 171.039993, 166.770004, 170.399994), (datetime.date(2022, 4, 14), 170.619995, 171.270004, 165.039993, 165.289993), (datetime.date(2022, 4, 18), 163.919998, 166.600006, 163.570007, 165.070007), (datetime.date(2022, 4, 19), 165.020004, 167.820007, 163.910004, 167.399994), (datetime.date(2022, 4, 20), 168.759995, 168.880005, 166.100006, 167.229996), (datetime.date(2022, 4, 21), 168.910004, 171.529999, 165.910004, 166.419998), (datetime.date(2022, 4, 22), 166.460007, 167.869995, 161.5, 161.789993), (datetime.date(2022, 4, 25), 161.119995, 163.169998, 158.460007, 162.880005), (datetime.date(2022, 4, 26), 162.25, 162.339996, 156.720001, 156.800003), (datetime.date(2022, 4, 27), 155.910004, 159.789993, 155.380005, 156.570007), (datetime.date(2022, 4, 28), 159.25, 164.520004, 158.929993, 163.639999), (datetime.date(2022, 4, 29), 161.839996, 166.199997, 157.25, 157.649994), (datetime.date(2022, 5, 2), 156.710007, 158.229996, 153.270004, 157.960007), (datetime.date(2022, 5, 3), 158.149994, 160.710007, 156.320007, 159.479996), (datetime.date(2022, 5, 4), 159.669998, 166.479996, 159.259995, 166.020004), (datetime.date(2022, 5, 5), 163.850006, 164.080002, 154.949997, 156.770004), (datetime.date(2022, 5, 6), 156.009995, 159.440002, 154.179993, 157.279999), (datetime.date(2022, 5, 9), 154.929993, 155.830002, 151.490005, 152.059998), (datetime.date(2022, 5, 10), 155.520004, 156.740005, 152.929993, 154.509995), (datetime.date(2022, 5, 11), 153.5, 155.449997, 145.809998, 146.5), (datetime.date(2022, 5, 12), 142.770004, 146.199997, 138.800003, 142.559998), (datetime.date(2022, 5, 13), 144.589996, 148.100006, 143.110001, 147.110001), (datetime.date(2022, 5, 16), 145.550003, 147.520004, 144.179993, 145.539993), (datetime.date(2022, 5, 17), 148.860001, 149.770004, 146.679993, 149.240005), (datetime.date(2022, 5, 18), 146.850006, 147.360001, 139.899994, 140.820007), (datetime.date(2022, 5, 19), 139.880005, 141.660004, 136.600006, 137.350006), (datetime.date(2022, 5, 20), 139.089996, 140.699997, 132.610001, 137.589996), (datetime.date(2022, 5, 23), 137.789993, 143.259995, 137.649994, 143.110001), (datetime.date(2022, 5, 24), 140.809998, 141.970001, 137.330002, 140.360001), (datetime.date(2022, 5, 25), 138.429993, 141.789993, 138.339996, 140.520004), (datetime.date(2022, 5, 26), 137.389999, 144.339996, 137.139999, 143.779999), (datetime.date(2022, 5, 27), 145.389999, 149.679993, 145.259995, 149.639999), (datetime.date(2022, 5, 31), 149.070007, 150.660004, 146.839996, 148.839996), (datetime.date(2022, 6, 1), 149.899994, 151.740005, 147.679993, 148.710007), (datetime.date(2022, 6, 2), 147.830002, 151.270004, 146.860001, 151.210007), (datetime.date(2022, 6, 3), 146.899994, 147.970001, 144.460007, 145.380005), (datetime.date(2022, 6, 6), 147.029999, 148.570007, 144.899994, 146.139999), (datetime.date(2022, 6, 7), 144.350006, 149.0, 144.100006, 148.710007), (datetime.date(2022, 6, 8), 148.580002, 149.869995, 147.460007, 147.960007), (datetime.date(2022, 6, 9), 147.080002, 147.949997, 142.529999, 142.639999), (datetime.date(2022, 6, 10), 140.279999, 140.759995, 137.059998, 137.130005), (datetime.date(2022, 6, 13), 132.869995, 135.199997, 131.440002, 131.880005), (datetime.date(2022, 6, 14), 133.130005, 133.889999, 131.479996, 132.759995), (datetime.date(2022, 6, 15), 134.289993, 137.339996, 132.160004, 135.429993), (datetime.date(2022, 6, 16), 132.080002, 132.389999, 129.039993, 130.059998), (datetime.date(2022, 6, 17), 130.070007, 133.080002, 129.809998, 131.559998), (datetime.date(2022, 6, 21), 133.419998, 137.059998, 133.320007, 135.869995), (datetime.date(2022, 6, 22), 134.789993, 137.759995, 133.910004, 135.350006), (datetime.date(2022, 6, 23), 136.820007, 138.589996, 135.630005, 138.270004), (datetime.date(2022, 6, 24), 139.899994, 141.910004, 139.770004, 141.660004), (datetime.date(2022, 6, 27), 142.699997, 143.490005, 140.970001, 141.660004), (datetime.date(2022, 6, 28), 142.130005, 143.419998, 137.320007, 137.440002), (datetime.date(2022, 6, 29), 137.460007, 140.669998, 136.669998, 139.229996), (datetime.date(2022, 6, 30), 137.25, 138.369995, 133.770004, 136.720001), (datetime.date(2022, 7, 1), 136.039993, 139.039993, 135.660004, 138.929993), (datetime.date(2022, 7, 5), 137.770004, 141.610001, 136.929993, 141.559998), (datetime.date(2022, 7, 6), 141.350006, 144.119995, 141.080002, 142.919998), (datetime.date(2022, 7, 7), 143.289993, 146.550003, 143.279999, 146.350006), (datetime.date(2022, 7, 8), 145.259995, 147.550003, 145.0, 147.039993), (datetime.date(2022, 7, 11), 145.669998, 146.639999, 143.779999, 144.869995), (datetime.date(2022, 7, 12), 145.759995, 148.449997, 145.050003, 145.860001), (datetime.date(2022, 7, 13), 142.990005, 146.449997, 142.119995, 145.490005), (datetime.date(2022, 7, 14), 144.080002, 148.949997, 143.25, 148.470001), (datetime.date(2022, 7, 15), 149.779999, 150.860001, 148.199997, 150.169998), (datetime.date(2022, 7, 18), 150.740005, 151.570007, 146.699997, 147.070007), (datetime.date(2022, 7, 19), 147.919998, 151.229996, 146.910004, 151.0), (datetime.date(2022, 7, 20), 151.119995, 153.720001, 150.369995, 153.039993), (datetime.date(2022, 7, 21), 154.5, 155.570007, 151.940002, 155.350006), (datetime.date(2022, 7, 22), 155.389999, 156.279999, 153.410004, 154.089996), (datetime.date(2022, 7, 25), 154.009995, 155.039993, 152.279999, 152.949997), (datetime.date(2022, 7, 26), 152.259995, 153.089996, 150.800003, 151.600006), (datetime.date(2022, 7, 27), 152.580002, 157.330002, 152.160004, 156.789993), (datetime.date(2022, 7, 28), 156.979996, 157.639999, 154.410004, 157.350006), (datetime.date(2022, 7, 29), 161.240005, 163.630005, 159.5, 162.509995), (datetime.date(2022, 8, 1), 161.009995, 163.589996, 160.889999, 161.509995), (datetime.date(2022, 8, 2), 160.100006, 162.410004, 159.630005, 160.009995), (datetime.date(2022, 8, 3), 160.839996, 166.589996, 160.75, 166.130005), (datetime.date(2022, 8, 4), 166.009995, 167.190002, 164.429993, 165.809998), (datetime.date(2022, 8, 5), 163.210007, 165.850006, 163.0, 165.350006), (datetime.date(2022, 8, 8), 166.369995, 167.809998, 164.199997, 164.869995), (datetime.date(2022, 8, 9), 164.020004, 165.820007, 163.25, 164.919998), (datetime.date(2022, 8, 10), 167.679993, 169.339996, 166.899994, 169.240005), (datetime.date(2022, 8, 11), 170.059998, 170.990005, 168.190002, 168.490005), (datetime.date(2022, 8, 12), 169.820007, 172.169998, 169.399994, 172.100006)]\n"
     ]
    }
   ],
   "source": [
    "cur = conn.cursor()\n",
    "cur.execute(query_apple)\n",
    "print(cur.fetchall())\n",
    "cur.close()\n",
    "conn.commit()"
   ]
  },
  {
   "cell_type": "code",
   "execution_count": 43,
   "id": "69e33dda",
   "metadata": {},
   "outputs": [],
   "source": [
    "cur = conn.cursor()\n",
    "cur.execute(query_apple)\n",
    "df_new_apple = pd.DataFrame(cur.fetchall(), columns=['Date', 'Open','High','Low','Close'])"
   ]
  },
  {
   "cell_type": "code",
   "execution_count": 44,
   "id": "f39ae8d2",
   "metadata": {},
   "outputs": [
    {
     "data": {
      "text/html": [
       "<div>\n",
       "<style scoped>\n",
       "    .dataframe tbody tr th:only-of-type {\n",
       "        vertical-align: middle;\n",
       "    }\n",
       "\n",
       "    .dataframe tbody tr th {\n",
       "        vertical-align: top;\n",
       "    }\n",
       "\n",
       "    .dataframe thead th {\n",
       "        text-align: right;\n",
       "    }\n",
       "</style>\n",
       "<table border=\"1\" class=\"dataframe\">\n",
       "  <thead>\n",
       "    <tr style=\"text-align: right;\">\n",
       "      <th></th>\n",
       "      <th>Date</th>\n",
       "      <th>Open</th>\n",
       "      <th>High</th>\n",
       "      <th>Low</th>\n",
       "      <th>Close</th>\n",
       "    </tr>\n",
       "  </thead>\n",
       "  <tbody>\n",
       "    <tr>\n",
       "      <th>0</th>\n",
       "      <td>2017-08-14</td>\n",
       "      <td>39.830002</td>\n",
       "      <td>40.052502</td>\n",
       "      <td>39.687500</td>\n",
       "      <td>39.962502</td>\n",
       "    </tr>\n",
       "    <tr>\n",
       "      <th>1</th>\n",
       "      <td>2017-08-15</td>\n",
       "      <td>40.165001</td>\n",
       "      <td>40.549999</td>\n",
       "      <td>40.035000</td>\n",
       "      <td>40.400002</td>\n",
       "    </tr>\n",
       "    <tr>\n",
       "      <th>2</th>\n",
       "      <td>2017-08-16</td>\n",
       "      <td>40.485001</td>\n",
       "      <td>40.627499</td>\n",
       "      <td>40.037498</td>\n",
       "      <td>40.237499</td>\n",
       "    </tr>\n",
       "    <tr>\n",
       "      <th>3</th>\n",
       "      <td>2017-08-17</td>\n",
       "      <td>40.130001</td>\n",
       "      <td>40.177502</td>\n",
       "      <td>39.459999</td>\n",
       "      <td>39.465000</td>\n",
       "    </tr>\n",
       "    <tr>\n",
       "      <th>4</th>\n",
       "      <td>2017-08-18</td>\n",
       "      <td>39.465000</td>\n",
       "      <td>39.875000</td>\n",
       "      <td>39.180000</td>\n",
       "      <td>39.375000</td>\n",
       "    </tr>\n",
       "  </tbody>\n",
       "</table>\n",
       "</div>"
      ],
      "text/plain": [
       "         Date       Open       High        Low      Close\n",
       "0  2017-08-14  39.830002  40.052502  39.687500  39.962502\n",
       "1  2017-08-15  40.165001  40.549999  40.035000  40.400002\n",
       "2  2017-08-16  40.485001  40.627499  40.037498  40.237499\n",
       "3  2017-08-17  40.130001  40.177502  39.459999  39.465000\n",
       "4  2017-08-18  39.465000  39.875000  39.180000  39.375000"
      ]
     },
     "execution_count": 44,
     "metadata": {},
     "output_type": "execute_result"
    }
   ],
   "source": [
    "df_new_apple.head()"
   ]
  },
  {
   "cell_type": "code",
   "execution_count": 45,
   "id": "1eba4943",
   "metadata": {},
   "outputs": [
    {
     "data": {
      "text/plain": [
       "(1259, 5)"
      ]
     },
     "execution_count": 45,
     "metadata": {},
     "output_type": "execute_result"
    }
   ],
   "source": [
    "df_new_apple.shape"
   ]
  },
  {
   "cell_type": "code",
   "execution_count": 46,
   "id": "bac4a440",
   "metadata": {},
   "outputs": [
    {
     "data": {
      "text/plain": [
       "(1259, 5)"
      ]
     },
     "execution_count": 46,
     "metadata": {},
     "output_type": "execute_result"
    }
   ],
   "source": [
    "apple_df.shape"
   ]
  },
  {
   "cell_type": "code",
   "execution_count": null,
   "id": "3b99bbb4",
   "metadata": {},
   "outputs": [],
   "source": []
  }
 ],
 "metadata": {
  "kernelspec": {
   "display_name": "Python 3 (ipykernel)",
   "language": "python",
   "name": "python3"
  },
  "language_info": {
   "codemirror_mode": {
    "name": "ipython",
    "version": 3
   },
   "file_extension": ".py",
   "mimetype": "text/x-python",
   "name": "python",
   "nbconvert_exporter": "python",
   "pygments_lexer": "ipython3",
   "version": "3.10.4"
  }
 },
 "nbformat": 4,
 "nbformat_minor": 5
}
